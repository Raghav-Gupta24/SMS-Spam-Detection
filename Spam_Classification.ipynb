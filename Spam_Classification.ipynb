{
  "nbformat": 4,
  "nbformat_minor": 0,
  "metadata": {
    "colab": {
      "provenance": [],
      "authorship_tag": "ABX9TyP6L+GNkkQmiTMqUTgnSQum",
      "include_colab_link": true
    },
    "kernelspec": {
      "name": "python3",
      "display_name": "Python 3"
    },
    "language_info": {
      "name": "python"
    }
  },
  "cells": [
    {
      "cell_type": "markdown",
      "metadata": {
        "id": "view-in-github",
        "colab_type": "text"
      },
      "source": [
        "<a href=\"https://colab.research.google.com/github/Raghav-Gupta24/SMS-Spam-Detection/blob/main/Spam_Classification.ipynb\" target=\"_parent\"><img src=\"https://colab.research.google.com/assets/colab-badge.svg\" alt=\"Open In Colab\"/></a>"
      ]
    },
    {
      "cell_type": "markdown",
      "source": [
        "## Problem Statement: Given SMS data, we need to create a classification model that can classify SMS as spam or ham\n",
        "\n",
        "Dataset link: https://www.kaggle.com/datasets/uciml/sms-spam-collection-dataset\n",
        "\n",
        "Note :- \n",
        "- `spam` => Spam is any kind of unwanted or promotional emails/messages\n",
        "- `ham` => not spam mails or messages"
      ],
      "metadata": {
        "id": "NX-W3ksxQcsl"
      }
    },
    {
      "cell_type": "code",
      "execution_count": 2,
      "metadata": {
        "id": "X5i4AGvu_mVh"
      },
      "outputs": [],
      "source": [
        "import numpy as np\n",
        "import pandas as pd\n",
        "import matplotlib.pyplot as plt\n",
        "import seaborn as sns"
      ]
    },
    {
      "cell_type": "code",
      "source": [
        "plt.rcParams[\"figure.figsize\"] = [7.50, 3.50]"
      ],
      "metadata": {
        "id": "3DNWYUU4BGFW"
      },
      "execution_count": 3,
      "outputs": []
    },
    {
      "cell_type": "code",
      "source": [
        "!gdown 17m5mPzBPVY0K6aMFYzbynrz30Dwfx64L"
      ],
      "metadata": {
        "colab": {
          "base_uri": "https://localhost:8080/"
        },
        "id": "o9CJKH3mSWNM",
        "outputId": "4e1f2276-cf6e-4621-9381-da85a27d1436"
      },
      "execution_count": 4,
      "outputs": [
        {
          "output_type": "stream",
          "name": "stdout",
          "text": [
            "Downloading...\n",
            "From: https://drive.google.com/uc?id=17m5mPzBPVY0K6aMFYzbynrz30Dwfx64L\n",
            "To: /content/spam.csv\n",
            "\r  0% 0.00/504k [00:00<?, ?B/s]\r100% 504k/504k [00:00<00:00, 87.1MB/s]\n"
          ]
        }
      ]
    },
    {
      "cell_type": "code",
      "source": [
        "df = pd.read_csv('/content/spam.csv', encoding = \"ISO-8859-1\")\n",
        "df"
      ],
      "metadata": {
        "colab": {
          "base_uri": "https://localhost:8080/",
          "height": 423
        },
        "id": "tsL0cGrTSZtr",
        "outputId": "e2105e06-86ae-4852-826b-98157263e2fc"
      },
      "execution_count": 5,
      "outputs": [
        {
          "output_type": "execute_result",
          "data": {
            "text/plain": [
              "        v1                                                 v2 Unnamed: 2  \\\n",
              "0      ham  Go until jurong point, crazy.. Available only ...        NaN   \n",
              "1      ham                      Ok lar... Joking wif u oni...        NaN   \n",
              "2     spam  Free entry in 2 a wkly comp to win FA Cup fina...        NaN   \n",
              "3      ham  U dun say so early hor... U c already then say...        NaN   \n",
              "4      ham  Nah I don't think he goes to usf, he lives aro...        NaN   \n",
              "...    ...                                                ...        ...   \n",
              "5567  spam  This is the 2nd time we have tried 2 contact u...        NaN   \n",
              "5568   ham              Will Ì_ b going to esplanade fr home?        NaN   \n",
              "5569   ham  Pity, * was in mood for that. So...any other s...        NaN   \n",
              "5570   ham  The guy did some bitching but I acted like i'd...        NaN   \n",
              "5571   ham                         Rofl. Its true to its name        NaN   \n",
              "\n",
              "     Unnamed: 3 Unnamed: 4  \n",
              "0           NaN        NaN  \n",
              "1           NaN        NaN  \n",
              "2           NaN        NaN  \n",
              "3           NaN        NaN  \n",
              "4           NaN        NaN  \n",
              "...         ...        ...  \n",
              "5567        NaN        NaN  \n",
              "5568        NaN        NaN  \n",
              "5569        NaN        NaN  \n",
              "5570        NaN        NaN  \n",
              "5571        NaN        NaN  \n",
              "\n",
              "[5572 rows x 5 columns]"
            ],
            "text/html": [
              "\n",
              "  <div id=\"df-66529c5e-8c60-4eda-883c-c2ccf37a18cf\">\n",
              "    <div class=\"colab-df-container\">\n",
              "      <div>\n",
              "<style scoped>\n",
              "    .dataframe tbody tr th:only-of-type {\n",
              "        vertical-align: middle;\n",
              "    }\n",
              "\n",
              "    .dataframe tbody tr th {\n",
              "        vertical-align: top;\n",
              "    }\n",
              "\n",
              "    .dataframe thead th {\n",
              "        text-align: right;\n",
              "    }\n",
              "</style>\n",
              "<table border=\"1\" class=\"dataframe\">\n",
              "  <thead>\n",
              "    <tr style=\"text-align: right;\">\n",
              "      <th></th>\n",
              "      <th>v1</th>\n",
              "      <th>v2</th>\n",
              "      <th>Unnamed: 2</th>\n",
              "      <th>Unnamed: 3</th>\n",
              "      <th>Unnamed: 4</th>\n",
              "    </tr>\n",
              "  </thead>\n",
              "  <tbody>\n",
              "    <tr>\n",
              "      <th>0</th>\n",
              "      <td>ham</td>\n",
              "      <td>Go until jurong point, crazy.. Available only ...</td>\n",
              "      <td>NaN</td>\n",
              "      <td>NaN</td>\n",
              "      <td>NaN</td>\n",
              "    </tr>\n",
              "    <tr>\n",
              "      <th>1</th>\n",
              "      <td>ham</td>\n",
              "      <td>Ok lar... Joking wif u oni...</td>\n",
              "      <td>NaN</td>\n",
              "      <td>NaN</td>\n",
              "      <td>NaN</td>\n",
              "    </tr>\n",
              "    <tr>\n",
              "      <th>2</th>\n",
              "      <td>spam</td>\n",
              "      <td>Free entry in 2 a wkly comp to win FA Cup fina...</td>\n",
              "      <td>NaN</td>\n",
              "      <td>NaN</td>\n",
              "      <td>NaN</td>\n",
              "    </tr>\n",
              "    <tr>\n",
              "      <th>3</th>\n",
              "      <td>ham</td>\n",
              "      <td>U dun say so early hor... U c already then say...</td>\n",
              "      <td>NaN</td>\n",
              "      <td>NaN</td>\n",
              "      <td>NaN</td>\n",
              "    </tr>\n",
              "    <tr>\n",
              "      <th>4</th>\n",
              "      <td>ham</td>\n",
              "      <td>Nah I don't think he goes to usf, he lives aro...</td>\n",
              "      <td>NaN</td>\n",
              "      <td>NaN</td>\n",
              "      <td>NaN</td>\n",
              "    </tr>\n",
              "    <tr>\n",
              "      <th>...</th>\n",
              "      <td>...</td>\n",
              "      <td>...</td>\n",
              "      <td>...</td>\n",
              "      <td>...</td>\n",
              "      <td>...</td>\n",
              "    </tr>\n",
              "    <tr>\n",
              "      <th>5567</th>\n",
              "      <td>spam</td>\n",
              "      <td>This is the 2nd time we have tried 2 contact u...</td>\n",
              "      <td>NaN</td>\n",
              "      <td>NaN</td>\n",
              "      <td>NaN</td>\n",
              "    </tr>\n",
              "    <tr>\n",
              "      <th>5568</th>\n",
              "      <td>ham</td>\n",
              "      <td>Will Ì_ b going to esplanade fr home?</td>\n",
              "      <td>NaN</td>\n",
              "      <td>NaN</td>\n",
              "      <td>NaN</td>\n",
              "    </tr>\n",
              "    <tr>\n",
              "      <th>5569</th>\n",
              "      <td>ham</td>\n",
              "      <td>Pity, * was in mood for that. So...any other s...</td>\n",
              "      <td>NaN</td>\n",
              "      <td>NaN</td>\n",
              "      <td>NaN</td>\n",
              "    </tr>\n",
              "    <tr>\n",
              "      <th>5570</th>\n",
              "      <td>ham</td>\n",
              "      <td>The guy did some bitching but I acted like i'd...</td>\n",
              "      <td>NaN</td>\n",
              "      <td>NaN</td>\n",
              "      <td>NaN</td>\n",
              "    </tr>\n",
              "    <tr>\n",
              "      <th>5571</th>\n",
              "      <td>ham</td>\n",
              "      <td>Rofl. Its true to its name</td>\n",
              "      <td>NaN</td>\n",
              "      <td>NaN</td>\n",
              "      <td>NaN</td>\n",
              "    </tr>\n",
              "  </tbody>\n",
              "</table>\n",
              "<p>5572 rows × 5 columns</p>\n",
              "</div>\n",
              "      <button class=\"colab-df-convert\" onclick=\"convertToInteractive('df-66529c5e-8c60-4eda-883c-c2ccf37a18cf')\"\n",
              "              title=\"Convert this dataframe to an interactive table.\"\n",
              "              style=\"display:none;\">\n",
              "        \n",
              "  <svg xmlns=\"http://www.w3.org/2000/svg\" height=\"24px\"viewBox=\"0 0 24 24\"\n",
              "       width=\"24px\">\n",
              "    <path d=\"M0 0h24v24H0V0z\" fill=\"none\"/>\n",
              "    <path d=\"M18.56 5.44l.94 2.06.94-2.06 2.06-.94-2.06-.94-.94-2.06-.94 2.06-2.06.94zm-11 1L8.5 8.5l.94-2.06 2.06-.94-2.06-.94L8.5 2.5l-.94 2.06-2.06.94zm10 10l.94 2.06.94-2.06 2.06-.94-2.06-.94-.94-2.06-.94 2.06-2.06.94z\"/><path d=\"M17.41 7.96l-1.37-1.37c-.4-.4-.92-.59-1.43-.59-.52 0-1.04.2-1.43.59L10.3 9.45l-7.72 7.72c-.78.78-.78 2.05 0 2.83L4 21.41c.39.39.9.59 1.41.59.51 0 1.02-.2 1.41-.59l7.78-7.78 2.81-2.81c.8-.78.8-2.07 0-2.86zM5.41 20L4 18.59l7.72-7.72 1.47 1.35L5.41 20z\"/>\n",
              "  </svg>\n",
              "      </button>\n",
              "      \n",
              "  <style>\n",
              "    .colab-df-container {\n",
              "      display:flex;\n",
              "      flex-wrap:wrap;\n",
              "      gap: 12px;\n",
              "    }\n",
              "\n",
              "    .colab-df-convert {\n",
              "      background-color: #E8F0FE;\n",
              "      border: none;\n",
              "      border-radius: 50%;\n",
              "      cursor: pointer;\n",
              "      display: none;\n",
              "      fill: #1967D2;\n",
              "      height: 32px;\n",
              "      padding: 0 0 0 0;\n",
              "      width: 32px;\n",
              "    }\n",
              "\n",
              "    .colab-df-convert:hover {\n",
              "      background-color: #E2EBFA;\n",
              "      box-shadow: 0px 1px 2px rgba(60, 64, 67, 0.3), 0px 1px 3px 1px rgba(60, 64, 67, 0.15);\n",
              "      fill: #174EA6;\n",
              "    }\n",
              "\n",
              "    [theme=dark] .colab-df-convert {\n",
              "      background-color: #3B4455;\n",
              "      fill: #D2E3FC;\n",
              "    }\n",
              "\n",
              "    [theme=dark] .colab-df-convert:hover {\n",
              "      background-color: #434B5C;\n",
              "      box-shadow: 0px 1px 3px 1px rgba(0, 0, 0, 0.15);\n",
              "      filter: drop-shadow(0px 1px 2px rgba(0, 0, 0, 0.3));\n",
              "      fill: #FFFFFF;\n",
              "    }\n",
              "  </style>\n",
              "\n",
              "      <script>\n",
              "        const buttonEl =\n",
              "          document.querySelector('#df-66529c5e-8c60-4eda-883c-c2ccf37a18cf button.colab-df-convert');\n",
              "        buttonEl.style.display =\n",
              "          google.colab.kernel.accessAllowed ? 'block' : 'none';\n",
              "\n",
              "        async function convertToInteractive(key) {\n",
              "          const element = document.querySelector('#df-66529c5e-8c60-4eda-883c-c2ccf37a18cf');\n",
              "          const dataTable =\n",
              "            await google.colab.kernel.invokeFunction('convertToInteractive',\n",
              "                                                     [key], {});\n",
              "          if (!dataTable) return;\n",
              "\n",
              "          const docLinkHtml = 'Like what you see? Visit the ' +\n",
              "            '<a target=\"_blank\" href=https://colab.research.google.com/notebooks/data_table.ipynb>data table notebook</a>'\n",
              "            + ' to learn more about interactive tables.';\n",
              "          element.innerHTML = '';\n",
              "          dataTable['output_type'] = 'display_data';\n",
              "          await google.colab.output.renderOutput(dataTable, element);\n",
              "          const docLink = document.createElement('div');\n",
              "          docLink.innerHTML = docLinkHtml;\n",
              "          element.appendChild(docLink);\n",
              "        }\n",
              "      </script>\n",
              "    </div>\n",
              "  </div>\n",
              "  "
            ]
          },
          "metadata": {},
          "execution_count": 5
        }
      ]
    },
    {
      "cell_type": "markdown",
      "source": [
        "So there are 3 columns with a lot of NaN values."
      ],
      "metadata": {
        "id": "MoFJSFljTFXJ"
      }
    },
    {
      "cell_type": "code",
      "source": [
        "df.isna().sum()"
      ],
      "metadata": {
        "colab": {
          "base_uri": "https://localhost:8080/"
        },
        "id": "ey-pyfwVTMII",
        "outputId": "d27226f4-a934-4064-b950-05412ce194c3"
      },
      "execution_count": 6,
      "outputs": [
        {
          "output_type": "execute_result",
          "data": {
            "text/plain": [
              "v1               0\n",
              "v2               0\n",
              "Unnamed: 2    5522\n",
              "Unnamed: 3    5560\n",
              "Unnamed: 4    5566\n",
              "dtype: int64"
            ]
          },
          "metadata": {},
          "execution_count": 6
        }
      ]
    },
    {
      "cell_type": "markdown",
      "source": [
        "Out of a total of 5572 rows, 5500+ entries of `Unnamed: 2`, `Unnamed: 3` and `Unnamed: 4` are NaN, so we can't really do anything about them, we need to drop these columns."
      ],
      "metadata": {
        "id": "WUXT7-roTVoq"
      }
    },
    {
      "cell_type": "code",
      "source": [
        "df.drop(['Unnamed: 2', 'Unnamed: 3', 'Unnamed: 4'], axis=1, inplace = True)\n",
        "df"
      ],
      "metadata": {
        "colab": {
          "base_uri": "https://localhost:8080/",
          "height": 423
        },
        "id": "v1__drqdTpPV",
        "outputId": "a5f88794-ba43-4010-8e20-1ce6691f0cd6"
      },
      "execution_count": 7,
      "outputs": [
        {
          "output_type": "execute_result",
          "data": {
            "text/plain": [
              "        v1                                                 v2\n",
              "0      ham  Go until jurong point, crazy.. Available only ...\n",
              "1      ham                      Ok lar... Joking wif u oni...\n",
              "2     spam  Free entry in 2 a wkly comp to win FA Cup fina...\n",
              "3      ham  U dun say so early hor... U c already then say...\n",
              "4      ham  Nah I don't think he goes to usf, he lives aro...\n",
              "...    ...                                                ...\n",
              "5567  spam  This is the 2nd time we have tried 2 contact u...\n",
              "5568   ham              Will Ì_ b going to esplanade fr home?\n",
              "5569   ham  Pity, * was in mood for that. So...any other s...\n",
              "5570   ham  The guy did some bitching but I acted like i'd...\n",
              "5571   ham                         Rofl. Its true to its name\n",
              "\n",
              "[5572 rows x 2 columns]"
            ],
            "text/html": [
              "\n",
              "  <div id=\"df-fdec605a-73af-4e68-8f0e-f02b88fc83c2\">\n",
              "    <div class=\"colab-df-container\">\n",
              "      <div>\n",
              "<style scoped>\n",
              "    .dataframe tbody tr th:only-of-type {\n",
              "        vertical-align: middle;\n",
              "    }\n",
              "\n",
              "    .dataframe tbody tr th {\n",
              "        vertical-align: top;\n",
              "    }\n",
              "\n",
              "    .dataframe thead th {\n",
              "        text-align: right;\n",
              "    }\n",
              "</style>\n",
              "<table border=\"1\" class=\"dataframe\">\n",
              "  <thead>\n",
              "    <tr style=\"text-align: right;\">\n",
              "      <th></th>\n",
              "      <th>v1</th>\n",
              "      <th>v2</th>\n",
              "    </tr>\n",
              "  </thead>\n",
              "  <tbody>\n",
              "    <tr>\n",
              "      <th>0</th>\n",
              "      <td>ham</td>\n",
              "      <td>Go until jurong point, crazy.. Available only ...</td>\n",
              "    </tr>\n",
              "    <tr>\n",
              "      <th>1</th>\n",
              "      <td>ham</td>\n",
              "      <td>Ok lar... Joking wif u oni...</td>\n",
              "    </tr>\n",
              "    <tr>\n",
              "      <th>2</th>\n",
              "      <td>spam</td>\n",
              "      <td>Free entry in 2 a wkly comp to win FA Cup fina...</td>\n",
              "    </tr>\n",
              "    <tr>\n",
              "      <th>3</th>\n",
              "      <td>ham</td>\n",
              "      <td>U dun say so early hor... U c already then say...</td>\n",
              "    </tr>\n",
              "    <tr>\n",
              "      <th>4</th>\n",
              "      <td>ham</td>\n",
              "      <td>Nah I don't think he goes to usf, he lives aro...</td>\n",
              "    </tr>\n",
              "    <tr>\n",
              "      <th>...</th>\n",
              "      <td>...</td>\n",
              "      <td>...</td>\n",
              "    </tr>\n",
              "    <tr>\n",
              "      <th>5567</th>\n",
              "      <td>spam</td>\n",
              "      <td>This is the 2nd time we have tried 2 contact u...</td>\n",
              "    </tr>\n",
              "    <tr>\n",
              "      <th>5568</th>\n",
              "      <td>ham</td>\n",
              "      <td>Will Ì_ b going to esplanade fr home?</td>\n",
              "    </tr>\n",
              "    <tr>\n",
              "      <th>5569</th>\n",
              "      <td>ham</td>\n",
              "      <td>Pity, * was in mood for that. So...any other s...</td>\n",
              "    </tr>\n",
              "    <tr>\n",
              "      <th>5570</th>\n",
              "      <td>ham</td>\n",
              "      <td>The guy did some bitching but I acted like i'd...</td>\n",
              "    </tr>\n",
              "    <tr>\n",
              "      <th>5571</th>\n",
              "      <td>ham</td>\n",
              "      <td>Rofl. Its true to its name</td>\n",
              "    </tr>\n",
              "  </tbody>\n",
              "</table>\n",
              "<p>5572 rows × 2 columns</p>\n",
              "</div>\n",
              "      <button class=\"colab-df-convert\" onclick=\"convertToInteractive('df-fdec605a-73af-4e68-8f0e-f02b88fc83c2')\"\n",
              "              title=\"Convert this dataframe to an interactive table.\"\n",
              "              style=\"display:none;\">\n",
              "        \n",
              "  <svg xmlns=\"http://www.w3.org/2000/svg\" height=\"24px\"viewBox=\"0 0 24 24\"\n",
              "       width=\"24px\">\n",
              "    <path d=\"M0 0h24v24H0V0z\" fill=\"none\"/>\n",
              "    <path d=\"M18.56 5.44l.94 2.06.94-2.06 2.06-.94-2.06-.94-.94-2.06-.94 2.06-2.06.94zm-11 1L8.5 8.5l.94-2.06 2.06-.94-2.06-.94L8.5 2.5l-.94 2.06-2.06.94zm10 10l.94 2.06.94-2.06 2.06-.94-2.06-.94-.94-2.06-.94 2.06-2.06.94z\"/><path d=\"M17.41 7.96l-1.37-1.37c-.4-.4-.92-.59-1.43-.59-.52 0-1.04.2-1.43.59L10.3 9.45l-7.72 7.72c-.78.78-.78 2.05 0 2.83L4 21.41c.39.39.9.59 1.41.59.51 0 1.02-.2 1.41-.59l7.78-7.78 2.81-2.81c.8-.78.8-2.07 0-2.86zM5.41 20L4 18.59l7.72-7.72 1.47 1.35L5.41 20z\"/>\n",
              "  </svg>\n",
              "      </button>\n",
              "      \n",
              "  <style>\n",
              "    .colab-df-container {\n",
              "      display:flex;\n",
              "      flex-wrap:wrap;\n",
              "      gap: 12px;\n",
              "    }\n",
              "\n",
              "    .colab-df-convert {\n",
              "      background-color: #E8F0FE;\n",
              "      border: none;\n",
              "      border-radius: 50%;\n",
              "      cursor: pointer;\n",
              "      display: none;\n",
              "      fill: #1967D2;\n",
              "      height: 32px;\n",
              "      padding: 0 0 0 0;\n",
              "      width: 32px;\n",
              "    }\n",
              "\n",
              "    .colab-df-convert:hover {\n",
              "      background-color: #E2EBFA;\n",
              "      box-shadow: 0px 1px 2px rgba(60, 64, 67, 0.3), 0px 1px 3px 1px rgba(60, 64, 67, 0.15);\n",
              "      fill: #174EA6;\n",
              "    }\n",
              "\n",
              "    [theme=dark] .colab-df-convert {\n",
              "      background-color: #3B4455;\n",
              "      fill: #D2E3FC;\n",
              "    }\n",
              "\n",
              "    [theme=dark] .colab-df-convert:hover {\n",
              "      background-color: #434B5C;\n",
              "      box-shadow: 0px 1px 3px 1px rgba(0, 0, 0, 0.15);\n",
              "      filter: drop-shadow(0px 1px 2px rgba(0, 0, 0, 0.3));\n",
              "      fill: #FFFFFF;\n",
              "    }\n",
              "  </style>\n",
              "\n",
              "      <script>\n",
              "        const buttonEl =\n",
              "          document.querySelector('#df-fdec605a-73af-4e68-8f0e-f02b88fc83c2 button.colab-df-convert');\n",
              "        buttonEl.style.display =\n",
              "          google.colab.kernel.accessAllowed ? 'block' : 'none';\n",
              "\n",
              "        async function convertToInteractive(key) {\n",
              "          const element = document.querySelector('#df-fdec605a-73af-4e68-8f0e-f02b88fc83c2');\n",
              "          const dataTable =\n",
              "            await google.colab.kernel.invokeFunction('convertToInteractive',\n",
              "                                                     [key], {});\n",
              "          if (!dataTable) return;\n",
              "\n",
              "          const docLinkHtml = 'Like what you see? Visit the ' +\n",
              "            '<a target=\"_blank\" href=https://colab.research.google.com/notebooks/data_table.ipynb>data table notebook</a>'\n",
              "            + ' to learn more about interactive tables.';\n",
              "          element.innerHTML = '';\n",
              "          dataTable['output_type'] = 'display_data';\n",
              "          await google.colab.output.renderOutput(dataTable, element);\n",
              "          const docLink = document.createElement('div');\n",
              "          docLink.innerHTML = docLinkHtml;\n",
              "          element.appendChild(docLink);\n",
              "        }\n",
              "      </script>\n",
              "    </div>\n",
              "  </div>\n",
              "  "
            ]
          },
          "metadata": {},
          "execution_count": 7
        }
      ]
    },
    {
      "cell_type": "code",
      "source": [
        "df.dtypes"
      ],
      "metadata": {
        "colab": {
          "base_uri": "https://localhost:8080/"
        },
        "id": "YOiJsPSTU0Ub",
        "outputId": "63848f11-5d05-4921-e0aa-59a11a094bbf"
      },
      "execution_count": 8,
      "outputs": [
        {
          "output_type": "execute_result",
          "data": {
            "text/plain": [
              "v1    object\n",
              "v2    object\n",
              "dtype: object"
            ]
          },
          "metadata": {},
          "execution_count": 8
        }
      ]
    },
    {
      "cell_type": "markdown",
      "source": [
        "Let's properly rename our columns."
      ],
      "metadata": {
        "id": "SQRAy_VkUWW5"
      }
    },
    {
      "cell_type": "code",
      "source": [
        "df.rename(columns={'v1':'spam', 'v2':'sms'}, inplace=True)\n",
        "df.head()"
      ],
      "metadata": {
        "colab": {
          "base_uri": "https://localhost:8080/",
          "height": 206
        },
        "id": "GeH4iqg2UZbV",
        "outputId": "99119ca1-78ad-46f1-e111-24b97c35d4fa"
      },
      "execution_count": 9,
      "outputs": [
        {
          "output_type": "execute_result",
          "data": {
            "text/plain": [
              "   spam                                                sms\n",
              "0   ham  Go until jurong point, crazy.. Available only ...\n",
              "1   ham                      Ok lar... Joking wif u oni...\n",
              "2  spam  Free entry in 2 a wkly comp to win FA Cup fina...\n",
              "3   ham  U dun say so early hor... U c already then say...\n",
              "4   ham  Nah I don't think he goes to usf, he lives aro..."
            ],
            "text/html": [
              "\n",
              "  <div id=\"df-f18bb9e2-f4e8-4936-88f7-1ecdeb99bdaa\">\n",
              "    <div class=\"colab-df-container\">\n",
              "      <div>\n",
              "<style scoped>\n",
              "    .dataframe tbody tr th:only-of-type {\n",
              "        vertical-align: middle;\n",
              "    }\n",
              "\n",
              "    .dataframe tbody tr th {\n",
              "        vertical-align: top;\n",
              "    }\n",
              "\n",
              "    .dataframe thead th {\n",
              "        text-align: right;\n",
              "    }\n",
              "</style>\n",
              "<table border=\"1\" class=\"dataframe\">\n",
              "  <thead>\n",
              "    <tr style=\"text-align: right;\">\n",
              "      <th></th>\n",
              "      <th>spam</th>\n",
              "      <th>sms</th>\n",
              "    </tr>\n",
              "  </thead>\n",
              "  <tbody>\n",
              "    <tr>\n",
              "      <th>0</th>\n",
              "      <td>ham</td>\n",
              "      <td>Go until jurong point, crazy.. Available only ...</td>\n",
              "    </tr>\n",
              "    <tr>\n",
              "      <th>1</th>\n",
              "      <td>ham</td>\n",
              "      <td>Ok lar... Joking wif u oni...</td>\n",
              "    </tr>\n",
              "    <tr>\n",
              "      <th>2</th>\n",
              "      <td>spam</td>\n",
              "      <td>Free entry in 2 a wkly comp to win FA Cup fina...</td>\n",
              "    </tr>\n",
              "    <tr>\n",
              "      <th>3</th>\n",
              "      <td>ham</td>\n",
              "      <td>U dun say so early hor... U c already then say...</td>\n",
              "    </tr>\n",
              "    <tr>\n",
              "      <th>4</th>\n",
              "      <td>ham</td>\n",
              "      <td>Nah I don't think he goes to usf, he lives aro...</td>\n",
              "    </tr>\n",
              "  </tbody>\n",
              "</table>\n",
              "</div>\n",
              "      <button class=\"colab-df-convert\" onclick=\"convertToInteractive('df-f18bb9e2-f4e8-4936-88f7-1ecdeb99bdaa')\"\n",
              "              title=\"Convert this dataframe to an interactive table.\"\n",
              "              style=\"display:none;\">\n",
              "        \n",
              "  <svg xmlns=\"http://www.w3.org/2000/svg\" height=\"24px\"viewBox=\"0 0 24 24\"\n",
              "       width=\"24px\">\n",
              "    <path d=\"M0 0h24v24H0V0z\" fill=\"none\"/>\n",
              "    <path d=\"M18.56 5.44l.94 2.06.94-2.06 2.06-.94-2.06-.94-.94-2.06-.94 2.06-2.06.94zm-11 1L8.5 8.5l.94-2.06 2.06-.94-2.06-.94L8.5 2.5l-.94 2.06-2.06.94zm10 10l.94 2.06.94-2.06 2.06-.94-2.06-.94-.94-2.06-.94 2.06-2.06.94z\"/><path d=\"M17.41 7.96l-1.37-1.37c-.4-.4-.92-.59-1.43-.59-.52 0-1.04.2-1.43.59L10.3 9.45l-7.72 7.72c-.78.78-.78 2.05 0 2.83L4 21.41c.39.39.9.59 1.41.59.51 0 1.02-.2 1.41-.59l7.78-7.78 2.81-2.81c.8-.78.8-2.07 0-2.86zM5.41 20L4 18.59l7.72-7.72 1.47 1.35L5.41 20z\"/>\n",
              "  </svg>\n",
              "      </button>\n",
              "      \n",
              "  <style>\n",
              "    .colab-df-container {\n",
              "      display:flex;\n",
              "      flex-wrap:wrap;\n",
              "      gap: 12px;\n",
              "    }\n",
              "\n",
              "    .colab-df-convert {\n",
              "      background-color: #E8F0FE;\n",
              "      border: none;\n",
              "      border-radius: 50%;\n",
              "      cursor: pointer;\n",
              "      display: none;\n",
              "      fill: #1967D2;\n",
              "      height: 32px;\n",
              "      padding: 0 0 0 0;\n",
              "      width: 32px;\n",
              "    }\n",
              "\n",
              "    .colab-df-convert:hover {\n",
              "      background-color: #E2EBFA;\n",
              "      box-shadow: 0px 1px 2px rgba(60, 64, 67, 0.3), 0px 1px 3px 1px rgba(60, 64, 67, 0.15);\n",
              "      fill: #174EA6;\n",
              "    }\n",
              "\n",
              "    [theme=dark] .colab-df-convert {\n",
              "      background-color: #3B4455;\n",
              "      fill: #D2E3FC;\n",
              "    }\n",
              "\n",
              "    [theme=dark] .colab-df-convert:hover {\n",
              "      background-color: #434B5C;\n",
              "      box-shadow: 0px 1px 3px 1px rgba(0, 0, 0, 0.15);\n",
              "      filter: drop-shadow(0px 1px 2px rgba(0, 0, 0, 0.3));\n",
              "      fill: #FFFFFF;\n",
              "    }\n",
              "  </style>\n",
              "\n",
              "      <script>\n",
              "        const buttonEl =\n",
              "          document.querySelector('#df-f18bb9e2-f4e8-4936-88f7-1ecdeb99bdaa button.colab-df-convert');\n",
              "        buttonEl.style.display =\n",
              "          google.colab.kernel.accessAllowed ? 'block' : 'none';\n",
              "\n",
              "        async function convertToInteractive(key) {\n",
              "          const element = document.querySelector('#df-f18bb9e2-f4e8-4936-88f7-1ecdeb99bdaa');\n",
              "          const dataTable =\n",
              "            await google.colab.kernel.invokeFunction('convertToInteractive',\n",
              "                                                     [key], {});\n",
              "          if (!dataTable) return;\n",
              "\n",
              "          const docLinkHtml = 'Like what you see? Visit the ' +\n",
              "            '<a target=\"_blank\" href=https://colab.research.google.com/notebooks/data_table.ipynb>data table notebook</a>'\n",
              "            + ' to learn more about interactive tables.';\n",
              "          element.innerHTML = '';\n",
              "          dataTable['output_type'] = 'display_data';\n",
              "          await google.colab.output.renderOutput(dataTable, element);\n",
              "          const docLink = document.createElement('div');\n",
              "          docLink.innerHTML = docLinkHtml;\n",
              "          element.appendChild(docLink);\n",
              "        }\n",
              "      </script>\n",
              "    </div>\n",
              "  </div>\n",
              "  "
            ]
          },
          "metadata": {},
          "execution_count": 9
        }
      ]
    },
    {
      "cell_type": "markdown",
      "source": [
        "#### Checking duplicate entries"
      ],
      "metadata": {
        "id": "uwxvTx8b1-vA"
      }
    },
    {
      "cell_type": "code",
      "source": [
        "df[df.duplicated() == True]"
      ],
      "metadata": {
        "colab": {
          "base_uri": "https://localhost:8080/",
          "height": 423
        },
        "id": "Bs33rZNN2FmH",
        "outputId": "bd6d91ee-fe13-4958-a06e-0b8f1b017081"
      },
      "execution_count": 10,
      "outputs": [
        {
          "output_type": "execute_result",
          "data": {
            "text/plain": [
              "      spam                                                sms\n",
              "102    ham  As per your request 'Melle Melle (Oru Minnamin...\n",
              "153    ham  As per your request 'Melle Melle (Oru Minnamin...\n",
              "206    ham  As I entered my cabin my PA said, '' Happy B'd...\n",
              "222    ham                             Sorry, I'll call later\n",
              "325    ham                   No calls..messages..missed calls\n",
              "...    ...                                                ...\n",
              "5524  spam  You are awarded a SiPix Digital Camera! call 0...\n",
              "5535   ham  I know you are thinkin malaria. But relax, chi...\n",
              "5539   ham                         Just sleeping..and surfing\n",
              "5553   ham                        Hahaha..use your brain dear\n",
              "5558   ham                             Sorry, I'll call later\n",
              "\n",
              "[403 rows x 2 columns]"
            ],
            "text/html": [
              "\n",
              "  <div id=\"df-805f5e1b-a5d8-486b-a7fe-a290c89fe2fb\">\n",
              "    <div class=\"colab-df-container\">\n",
              "      <div>\n",
              "<style scoped>\n",
              "    .dataframe tbody tr th:only-of-type {\n",
              "        vertical-align: middle;\n",
              "    }\n",
              "\n",
              "    .dataframe tbody tr th {\n",
              "        vertical-align: top;\n",
              "    }\n",
              "\n",
              "    .dataframe thead th {\n",
              "        text-align: right;\n",
              "    }\n",
              "</style>\n",
              "<table border=\"1\" class=\"dataframe\">\n",
              "  <thead>\n",
              "    <tr style=\"text-align: right;\">\n",
              "      <th></th>\n",
              "      <th>spam</th>\n",
              "      <th>sms</th>\n",
              "    </tr>\n",
              "  </thead>\n",
              "  <tbody>\n",
              "    <tr>\n",
              "      <th>102</th>\n",
              "      <td>ham</td>\n",
              "      <td>As per your request 'Melle Melle (Oru Minnamin...</td>\n",
              "    </tr>\n",
              "    <tr>\n",
              "      <th>153</th>\n",
              "      <td>ham</td>\n",
              "      <td>As per your request 'Melle Melle (Oru Minnamin...</td>\n",
              "    </tr>\n",
              "    <tr>\n",
              "      <th>206</th>\n",
              "      <td>ham</td>\n",
              "      <td>As I entered my cabin my PA said, '' Happy B'd...</td>\n",
              "    </tr>\n",
              "    <tr>\n",
              "      <th>222</th>\n",
              "      <td>ham</td>\n",
              "      <td>Sorry, I'll call later</td>\n",
              "    </tr>\n",
              "    <tr>\n",
              "      <th>325</th>\n",
              "      <td>ham</td>\n",
              "      <td>No calls..messages..missed calls</td>\n",
              "    </tr>\n",
              "    <tr>\n",
              "      <th>...</th>\n",
              "      <td>...</td>\n",
              "      <td>...</td>\n",
              "    </tr>\n",
              "    <tr>\n",
              "      <th>5524</th>\n",
              "      <td>spam</td>\n",
              "      <td>You are awarded a SiPix Digital Camera! call 0...</td>\n",
              "    </tr>\n",
              "    <tr>\n",
              "      <th>5535</th>\n",
              "      <td>ham</td>\n",
              "      <td>I know you are thinkin malaria. But relax, chi...</td>\n",
              "    </tr>\n",
              "    <tr>\n",
              "      <th>5539</th>\n",
              "      <td>ham</td>\n",
              "      <td>Just sleeping..and surfing</td>\n",
              "    </tr>\n",
              "    <tr>\n",
              "      <th>5553</th>\n",
              "      <td>ham</td>\n",
              "      <td>Hahaha..use your brain dear</td>\n",
              "    </tr>\n",
              "    <tr>\n",
              "      <th>5558</th>\n",
              "      <td>ham</td>\n",
              "      <td>Sorry, I'll call later</td>\n",
              "    </tr>\n",
              "  </tbody>\n",
              "</table>\n",
              "<p>403 rows × 2 columns</p>\n",
              "</div>\n",
              "      <button class=\"colab-df-convert\" onclick=\"convertToInteractive('df-805f5e1b-a5d8-486b-a7fe-a290c89fe2fb')\"\n",
              "              title=\"Convert this dataframe to an interactive table.\"\n",
              "              style=\"display:none;\">\n",
              "        \n",
              "  <svg xmlns=\"http://www.w3.org/2000/svg\" height=\"24px\"viewBox=\"0 0 24 24\"\n",
              "       width=\"24px\">\n",
              "    <path d=\"M0 0h24v24H0V0z\" fill=\"none\"/>\n",
              "    <path d=\"M18.56 5.44l.94 2.06.94-2.06 2.06-.94-2.06-.94-.94-2.06-.94 2.06-2.06.94zm-11 1L8.5 8.5l.94-2.06 2.06-.94-2.06-.94L8.5 2.5l-.94 2.06-2.06.94zm10 10l.94 2.06.94-2.06 2.06-.94-2.06-.94-.94-2.06-.94 2.06-2.06.94z\"/><path d=\"M17.41 7.96l-1.37-1.37c-.4-.4-.92-.59-1.43-.59-.52 0-1.04.2-1.43.59L10.3 9.45l-7.72 7.72c-.78.78-.78 2.05 0 2.83L4 21.41c.39.39.9.59 1.41.59.51 0 1.02-.2 1.41-.59l7.78-7.78 2.81-2.81c.8-.78.8-2.07 0-2.86zM5.41 20L4 18.59l7.72-7.72 1.47 1.35L5.41 20z\"/>\n",
              "  </svg>\n",
              "      </button>\n",
              "      \n",
              "  <style>\n",
              "    .colab-df-container {\n",
              "      display:flex;\n",
              "      flex-wrap:wrap;\n",
              "      gap: 12px;\n",
              "    }\n",
              "\n",
              "    .colab-df-convert {\n",
              "      background-color: #E8F0FE;\n",
              "      border: none;\n",
              "      border-radius: 50%;\n",
              "      cursor: pointer;\n",
              "      display: none;\n",
              "      fill: #1967D2;\n",
              "      height: 32px;\n",
              "      padding: 0 0 0 0;\n",
              "      width: 32px;\n",
              "    }\n",
              "\n",
              "    .colab-df-convert:hover {\n",
              "      background-color: #E2EBFA;\n",
              "      box-shadow: 0px 1px 2px rgba(60, 64, 67, 0.3), 0px 1px 3px 1px rgba(60, 64, 67, 0.15);\n",
              "      fill: #174EA6;\n",
              "    }\n",
              "\n",
              "    [theme=dark] .colab-df-convert {\n",
              "      background-color: #3B4455;\n",
              "      fill: #D2E3FC;\n",
              "    }\n",
              "\n",
              "    [theme=dark] .colab-df-convert:hover {\n",
              "      background-color: #434B5C;\n",
              "      box-shadow: 0px 1px 3px 1px rgba(0, 0, 0, 0.15);\n",
              "      filter: drop-shadow(0px 1px 2px rgba(0, 0, 0, 0.3));\n",
              "      fill: #FFFFFF;\n",
              "    }\n",
              "  </style>\n",
              "\n",
              "      <script>\n",
              "        const buttonEl =\n",
              "          document.querySelector('#df-805f5e1b-a5d8-486b-a7fe-a290c89fe2fb button.colab-df-convert');\n",
              "        buttonEl.style.display =\n",
              "          google.colab.kernel.accessAllowed ? 'block' : 'none';\n",
              "\n",
              "        async function convertToInteractive(key) {\n",
              "          const element = document.querySelector('#df-805f5e1b-a5d8-486b-a7fe-a290c89fe2fb');\n",
              "          const dataTable =\n",
              "            await google.colab.kernel.invokeFunction('convertToInteractive',\n",
              "                                                     [key], {});\n",
              "          if (!dataTable) return;\n",
              "\n",
              "          const docLinkHtml = 'Like what you see? Visit the ' +\n",
              "            '<a target=\"_blank\" href=https://colab.research.google.com/notebooks/data_table.ipynb>data table notebook</a>'\n",
              "            + ' to learn more about interactive tables.';\n",
              "          element.innerHTML = '';\n",
              "          dataTable['output_type'] = 'display_data';\n",
              "          await google.colab.output.renderOutput(dataTable, element);\n",
              "          const docLink = document.createElement('div');\n",
              "          docLink.innerHTML = docLinkHtml;\n",
              "          element.appendChild(docLink);\n",
              "        }\n",
              "      </script>\n",
              "    </div>\n",
              "  </div>\n",
              "  "
            ]
          },
          "metadata": {},
          "execution_count": 10
        }
      ]
    },
    {
      "cell_type": "markdown",
      "source": [
        "Having duplicate entries in the data will only increase computation, without any information gain, therefore let's drop them."
      ],
      "metadata": {
        "id": "PjP05i7h2oDW"
      }
    },
    {
      "cell_type": "code",
      "source": [
        "df.drop_duplicates(inplace=True)\n",
        "df"
      ],
      "metadata": {
        "colab": {
          "base_uri": "https://localhost:8080/",
          "height": 423
        },
        "id": "zbC8nMSS2zyG",
        "outputId": "ccca78a2-0c79-4fce-b317-3a836f0b2106"
      },
      "execution_count": 11,
      "outputs": [
        {
          "output_type": "execute_result",
          "data": {
            "text/plain": [
              "      spam                                                sms\n",
              "0      ham  Go until jurong point, crazy.. Available only ...\n",
              "1      ham                      Ok lar... Joking wif u oni...\n",
              "2     spam  Free entry in 2 a wkly comp to win FA Cup fina...\n",
              "3      ham  U dun say so early hor... U c already then say...\n",
              "4      ham  Nah I don't think he goes to usf, he lives aro...\n",
              "...    ...                                                ...\n",
              "5567  spam  This is the 2nd time we have tried 2 contact u...\n",
              "5568   ham              Will Ì_ b going to esplanade fr home?\n",
              "5569   ham  Pity, * was in mood for that. So...any other s...\n",
              "5570   ham  The guy did some bitching but I acted like i'd...\n",
              "5571   ham                         Rofl. Its true to its name\n",
              "\n",
              "[5169 rows x 2 columns]"
            ],
            "text/html": [
              "\n",
              "  <div id=\"df-faa54b19-b5d2-475d-a95a-b55c65f7d144\">\n",
              "    <div class=\"colab-df-container\">\n",
              "      <div>\n",
              "<style scoped>\n",
              "    .dataframe tbody tr th:only-of-type {\n",
              "        vertical-align: middle;\n",
              "    }\n",
              "\n",
              "    .dataframe tbody tr th {\n",
              "        vertical-align: top;\n",
              "    }\n",
              "\n",
              "    .dataframe thead th {\n",
              "        text-align: right;\n",
              "    }\n",
              "</style>\n",
              "<table border=\"1\" class=\"dataframe\">\n",
              "  <thead>\n",
              "    <tr style=\"text-align: right;\">\n",
              "      <th></th>\n",
              "      <th>spam</th>\n",
              "      <th>sms</th>\n",
              "    </tr>\n",
              "  </thead>\n",
              "  <tbody>\n",
              "    <tr>\n",
              "      <th>0</th>\n",
              "      <td>ham</td>\n",
              "      <td>Go until jurong point, crazy.. Available only ...</td>\n",
              "    </tr>\n",
              "    <tr>\n",
              "      <th>1</th>\n",
              "      <td>ham</td>\n",
              "      <td>Ok lar... Joking wif u oni...</td>\n",
              "    </tr>\n",
              "    <tr>\n",
              "      <th>2</th>\n",
              "      <td>spam</td>\n",
              "      <td>Free entry in 2 a wkly comp to win FA Cup fina...</td>\n",
              "    </tr>\n",
              "    <tr>\n",
              "      <th>3</th>\n",
              "      <td>ham</td>\n",
              "      <td>U dun say so early hor... U c already then say...</td>\n",
              "    </tr>\n",
              "    <tr>\n",
              "      <th>4</th>\n",
              "      <td>ham</td>\n",
              "      <td>Nah I don't think he goes to usf, he lives aro...</td>\n",
              "    </tr>\n",
              "    <tr>\n",
              "      <th>...</th>\n",
              "      <td>...</td>\n",
              "      <td>...</td>\n",
              "    </tr>\n",
              "    <tr>\n",
              "      <th>5567</th>\n",
              "      <td>spam</td>\n",
              "      <td>This is the 2nd time we have tried 2 contact u...</td>\n",
              "    </tr>\n",
              "    <tr>\n",
              "      <th>5568</th>\n",
              "      <td>ham</td>\n",
              "      <td>Will Ì_ b going to esplanade fr home?</td>\n",
              "    </tr>\n",
              "    <tr>\n",
              "      <th>5569</th>\n",
              "      <td>ham</td>\n",
              "      <td>Pity, * was in mood for that. So...any other s...</td>\n",
              "    </tr>\n",
              "    <tr>\n",
              "      <th>5570</th>\n",
              "      <td>ham</td>\n",
              "      <td>The guy did some bitching but I acted like i'd...</td>\n",
              "    </tr>\n",
              "    <tr>\n",
              "      <th>5571</th>\n",
              "      <td>ham</td>\n",
              "      <td>Rofl. Its true to its name</td>\n",
              "    </tr>\n",
              "  </tbody>\n",
              "</table>\n",
              "<p>5169 rows × 2 columns</p>\n",
              "</div>\n",
              "      <button class=\"colab-df-convert\" onclick=\"convertToInteractive('df-faa54b19-b5d2-475d-a95a-b55c65f7d144')\"\n",
              "              title=\"Convert this dataframe to an interactive table.\"\n",
              "              style=\"display:none;\">\n",
              "        \n",
              "  <svg xmlns=\"http://www.w3.org/2000/svg\" height=\"24px\"viewBox=\"0 0 24 24\"\n",
              "       width=\"24px\">\n",
              "    <path d=\"M0 0h24v24H0V0z\" fill=\"none\"/>\n",
              "    <path d=\"M18.56 5.44l.94 2.06.94-2.06 2.06-.94-2.06-.94-.94-2.06-.94 2.06-2.06.94zm-11 1L8.5 8.5l.94-2.06 2.06-.94-2.06-.94L8.5 2.5l-.94 2.06-2.06.94zm10 10l.94 2.06.94-2.06 2.06-.94-2.06-.94-.94-2.06-.94 2.06-2.06.94z\"/><path d=\"M17.41 7.96l-1.37-1.37c-.4-.4-.92-.59-1.43-.59-.52 0-1.04.2-1.43.59L10.3 9.45l-7.72 7.72c-.78.78-.78 2.05 0 2.83L4 21.41c.39.39.9.59 1.41.59.51 0 1.02-.2 1.41-.59l7.78-7.78 2.81-2.81c.8-.78.8-2.07 0-2.86zM5.41 20L4 18.59l7.72-7.72 1.47 1.35L5.41 20z\"/>\n",
              "  </svg>\n",
              "      </button>\n",
              "      \n",
              "  <style>\n",
              "    .colab-df-container {\n",
              "      display:flex;\n",
              "      flex-wrap:wrap;\n",
              "      gap: 12px;\n",
              "    }\n",
              "\n",
              "    .colab-df-convert {\n",
              "      background-color: #E8F0FE;\n",
              "      border: none;\n",
              "      border-radius: 50%;\n",
              "      cursor: pointer;\n",
              "      display: none;\n",
              "      fill: #1967D2;\n",
              "      height: 32px;\n",
              "      padding: 0 0 0 0;\n",
              "      width: 32px;\n",
              "    }\n",
              "\n",
              "    .colab-df-convert:hover {\n",
              "      background-color: #E2EBFA;\n",
              "      box-shadow: 0px 1px 2px rgba(60, 64, 67, 0.3), 0px 1px 3px 1px rgba(60, 64, 67, 0.15);\n",
              "      fill: #174EA6;\n",
              "    }\n",
              "\n",
              "    [theme=dark] .colab-df-convert {\n",
              "      background-color: #3B4455;\n",
              "      fill: #D2E3FC;\n",
              "    }\n",
              "\n",
              "    [theme=dark] .colab-df-convert:hover {\n",
              "      background-color: #434B5C;\n",
              "      box-shadow: 0px 1px 3px 1px rgba(0, 0, 0, 0.15);\n",
              "      filter: drop-shadow(0px 1px 2px rgba(0, 0, 0, 0.3));\n",
              "      fill: #FFFFFF;\n",
              "    }\n",
              "  </style>\n",
              "\n",
              "      <script>\n",
              "        const buttonEl =\n",
              "          document.querySelector('#df-faa54b19-b5d2-475d-a95a-b55c65f7d144 button.colab-df-convert');\n",
              "        buttonEl.style.display =\n",
              "          google.colab.kernel.accessAllowed ? 'block' : 'none';\n",
              "\n",
              "        async function convertToInteractive(key) {\n",
              "          const element = document.querySelector('#df-faa54b19-b5d2-475d-a95a-b55c65f7d144');\n",
              "          const dataTable =\n",
              "            await google.colab.kernel.invokeFunction('convertToInteractive',\n",
              "                                                     [key], {});\n",
              "          if (!dataTable) return;\n",
              "\n",
              "          const docLinkHtml = 'Like what you see? Visit the ' +\n",
              "            '<a target=\"_blank\" href=https://colab.research.google.com/notebooks/data_table.ipynb>data table notebook</a>'\n",
              "            + ' to learn more about interactive tables.';\n",
              "          element.innerHTML = '';\n",
              "          dataTable['output_type'] = 'display_data';\n",
              "          await google.colab.output.renderOutput(dataTable, element);\n",
              "          const docLink = document.createElement('div');\n",
              "          docLink.innerHTML = docLinkHtml;\n",
              "          element.appendChild(docLink);\n",
              "        }\n",
              "      </script>\n",
              "    </div>\n",
              "  </div>\n",
              "  "
            ]
          },
          "metadata": {},
          "execution_count": 11
        }
      ]
    },
    {
      "cell_type": "code",
      "source": [
        "5572 - 403"
      ],
      "metadata": {
        "colab": {
          "base_uri": "https://localhost:8080/"
        },
        "id": "SOShhGkV3DFy",
        "outputId": "25240c0d-ee22-49cb-d9db-4f406afcadf8"
      },
      "execution_count": 12,
      "outputs": [
        {
          "output_type": "execute_result",
          "data": {
            "text/plain": [
              "5169"
            ]
          },
          "metadata": {},
          "execution_count": 12
        }
      ]
    },
    {
      "cell_type": "markdown",
      "source": [
        "Since 403 rows were dropped, we have $5572 - 403 = 5169$ rows now."
      ],
      "metadata": {
        "id": "Os1FhsnN3IMO"
      }
    },
    {
      "cell_type": "markdown",
      "source": [
        "---\n",
        "\n",
        "### EDA"
      ],
      "metadata": {
        "id": "gL62fQcl3V6t"
      }
    },
    {
      "cell_type": "code",
      "source": [
        "df['spam'].value_counts()"
      ],
      "metadata": {
        "colab": {
          "base_uri": "https://localhost:8080/"
        },
        "id": "o-BPUKdh4dID",
        "outputId": "058f7817-186c-46ef-8395-8f36055b61a3"
      },
      "execution_count": 13,
      "outputs": [
        {
          "output_type": "execute_result",
          "data": {
            "text/plain": [
              "ham     4516\n",
              "spam     653\n",
              "Name: spam, dtype: int64"
            ]
          },
          "metadata": {},
          "execution_count": 13
        }
      ]
    },
    {
      "cell_type": "code",
      "source": [
        "sns.countplot(x = df['spam'])\n",
        "plt.title('Distribution of Dependent feature')\n",
        "plt.show()"
      ],
      "metadata": {
        "colab": {
          "base_uri": "https://localhost:8080/",
          "height": 372
        },
        "id": "8r7Jr0YV49W-",
        "outputId": "b6b2218c-b538-4413-ad65-2924391d9fe9"
      },
      "execution_count": 14,
      "outputs": [
        {
          "output_type": "display_data",
          "data": {
            "text/plain": [
              "<Figure size 750x350 with 1 Axes>"
            ],
            "image/png": "[encoded data removed]"
          },
          "metadata": {}
        }
      ]
    },
    {
      "cell_type": "code",
      "source": [
        "plt.pie(x = df['spam'].value_counts(), autopct='%.2f')\n",
        "plt.legend(df.spam)\n",
        "plt.show()"
      ],
      "metadata": {
        "colab": {
          "base_uri": "https://localhost:8080/",
          "height": 306
        },
        "id": "R6lDNh-U5eP_",
        "outputId": "2fef8743-7eb1-4f22-c4dc-d9b9c490275d"
      },
      "execution_count": 15,
      "outputs": [
        {
          "output_type": "display_data",
          "data": {
            "text/plain": [
              "<Figure size 750x350 with 1 Axes>"
            ],
            "image/png": "[encoded data removed]"
          },
          "metadata": {}
        }
      ]
    },
    {
      "cell_type": "markdown",
      "source": [
        "Therefore we have imbalanced data."
      ],
      "metadata": {
        "id": "R4HwBUvU41SP"
      }
    },
    {
      "cell_type": "markdown",
      "source": [
        "#### Target Encoding."
      ],
      "metadata": {
        "id": "5YipT1QvS_MY"
      }
    },
    {
      "cell_type": "code",
      "source": [
        "df['spam'] = df['spam'].map({'spam':1,'ham':0})\n",
        "df.head()"
      ],
      "metadata": {
        "colab": {
          "base_uri": "https://localhost:8080/",
          "height": 206
        },
        "id": "lbwSvCgeTBui",
        "outputId": "9dff39f3-a22d-42c1-96f2-de0c5a3d8376"
      },
      "execution_count": 16,
      "outputs": [
        {
          "output_type": "execute_result",
          "data": {
            "text/plain": [
              "   spam                                                sms\n",
              "0     0  Go until jurong point, crazy.. Available only ...\n",
              "1     0                      Ok lar... Joking wif u oni...\n",
              "2     1  Free entry in 2 a wkly comp to win FA Cup fina...\n",
              "3     0  U dun say so early hor... U c already then say...\n",
              "4     0  Nah I don't think he goes to usf, he lives aro..."
            ],
            "text/html": [
              "\n",
              "  <div id=\"df-9a1e8ed3-aa63-47be-9bbd-465baa41eb9f\">\n",
              "    <div class=\"colab-df-container\">\n",
              "      <div>\n",
              "<style scoped>\n",
              "    .dataframe tbody tr th:only-of-type {\n",
              "        vertical-align: middle;\n",
              "    }\n",
              "\n",
              "    .dataframe tbody tr th {\n",
              "        vertical-align: top;\n",
              "    }\n",
              "\n",
              "    .dataframe thead th {\n",
              "        text-align: right;\n",
              "    }\n",
              "</style>\n",
              "<table border=\"1\" class=\"dataframe\">\n",
              "  <thead>\n",
              "    <tr style=\"text-align: right;\">\n",
              "      <th></th>\n",
              "      <th>spam</th>\n",
              "      <th>sms</th>\n",
              "    </tr>\n",
              "  </thead>\n",
              "  <tbody>\n",
              "    <tr>\n",
              "      <th>0</th>\n",
              "      <td>0</td>\n",
              "      <td>Go until jurong point, crazy.. Available only ...</td>\n",
              "    </tr>\n",
              "    <tr>\n",
              "      <th>1</th>\n",
              "      <td>0</td>\n",
              "      <td>Ok lar... Joking wif u oni...</td>\n",
              "    </tr>\n",
              "    <tr>\n",
              "      <th>2</th>\n",
              "      <td>1</td>\n",
              "      <td>Free entry in 2 a wkly comp to win FA Cup fina...</td>\n",
              "    </tr>\n",
              "    <tr>\n",
              "      <th>3</th>\n",
              "      <td>0</td>\n",
              "      <td>U dun say so early hor... U c already then say...</td>\n",
              "    </tr>\n",
              "    <tr>\n",
              "      <th>4</th>\n",
              "      <td>0</td>\n",
              "      <td>Nah I don't think he goes to usf, he lives aro...</td>\n",
              "    </tr>\n",
              "  </tbody>\n",
              "</table>\n",
              "</div>\n",
              "      <button class=\"colab-df-convert\" onclick=\"convertToInteractive('df-9a1e8ed3-aa63-47be-9bbd-465baa41eb9f')\"\n",
              "              title=\"Convert this dataframe to an interactive table.\"\n",
              "              style=\"display:none;\">\n",
              "        \n",
              "  <svg xmlns=\"http://www.w3.org/2000/svg\" height=\"24px\"viewBox=\"0 0 24 24\"\n",
              "       width=\"24px\">\n",
              "    <path d=\"M0 0h24v24H0V0z\" fill=\"none\"/>\n",
              "    <path d=\"M18.56 5.44l.94 2.06.94-2.06 2.06-.94-2.06-.94-.94-2.06-.94 2.06-2.06.94zm-11 1L8.5 8.5l.94-2.06 2.06-.94-2.06-.94L8.5 2.5l-.94 2.06-2.06.94zm10 10l.94 2.06.94-2.06 2.06-.94-2.06-.94-.94-2.06-.94 2.06-2.06.94z\"/><path d=\"M17.41 7.96l-1.37-1.37c-.4-.4-.92-.59-1.43-.59-.52 0-1.04.2-1.43.59L10.3 9.45l-7.72 7.72c-.78.78-.78 2.05 0 2.83L4 21.41c.39.39.9.59 1.41.59.51 0 1.02-.2 1.41-.59l7.78-7.78 2.81-2.81c.8-.78.8-2.07 0-2.86zM5.41 20L4 18.59l7.72-7.72 1.47 1.35L5.41 20z\"/>\n",
              "  </svg>\n",
              "      </button>\n",
              "      \n",
              "  <style>\n",
              "    .colab-df-container {\n",
              "      display:flex;\n",
              "      flex-wrap:wrap;\n",
              "      gap: 12px;\n",
              "    }\n",
              "\n",
              "    .colab-df-convert {\n",
              "      background-color: #E8F0FE;\n",
              "      border: none;\n",
              "      border-radius: 50%;\n",
              "      cursor: pointer;\n",
              "      display: none;\n",
              "      fill: #1967D2;\n",
              "      height: 32px;\n",
              "      padding: 0 0 0 0;\n",
              "      width: 32px;\n",
              "    }\n",
              "\n",
              "    .colab-df-convert:hover {\n",
              "      background-color: #E2EBFA;\n",
              "      box-shadow: 0px 1px 2px rgba(60, 64, 67, 0.3), 0px 1px 3px 1px rgba(60, 64, 67, 0.15);\n",
              "      fill: #174EA6;\n",
              "    }\n",
              "\n",
              "    [theme=dark] .colab-df-convert {\n",
              "      background-color: #3B4455;\n",
              "      fill: #D2E3FC;\n",
              "    }\n",
              "\n",
              "    [theme=dark] .colab-df-convert:hover {\n",
              "      background-color: #434B5C;\n",
              "      box-shadow: 0px 1px 3px 1px rgba(0, 0, 0, 0.15);\n",
              "      filter: drop-shadow(0px 1px 2px rgba(0, 0, 0, 0.3));\n",
              "      fill: #FFFFFF;\n",
              "    }\n",
              "  </style>\n",
              "\n",
              "      <script>\n",
              "        const buttonEl =\n",
              "          document.querySelector('#df-9a1e8ed3-aa63-47be-9bbd-465baa41eb9f button.colab-df-convert');\n",
              "        buttonEl.style.display =\n",
              "          google.colab.kernel.accessAllowed ? 'block' : 'none';\n",
              "\n",
              "        async function convertToInteractive(key) {\n",
              "          const element = document.querySelector('#df-9a1e8ed3-aa63-47be-9bbd-465baa41eb9f');\n",
              "          const dataTable =\n",
              "            await google.colab.kernel.invokeFunction('convertToInteractive',\n",
              "                                                     [key], {});\n",
              "          if (!dataTable) return;\n",
              "\n",
              "          const docLinkHtml = 'Like what you see? Visit the ' +\n",
              "            '<a target=\"_blank\" href=https://colab.research.google.com/notebooks/data_table.ipynb>data table notebook</a>'\n",
              "            + ' to learn more about interactive tables.';\n",
              "          element.innerHTML = '';\n",
              "          dataTable['output_type'] = 'display_data';\n",
              "          await google.colab.output.renderOutput(dataTable, element);\n",
              "          const docLink = document.createElement('div');\n",
              "          docLink.innerHTML = docLinkHtml;\n",
              "          element.appendChild(docLink);\n",
              "        }\n",
              "      </script>\n",
              "    </div>\n",
              "  </div>\n",
              "  "
            ]
          },
          "metadata": {},
          "execution_count": 16
        }
      ]
    },
    {
      "cell_type": "markdown",
      "source": [
        "### Text PreProcessing\n",
        "\n",
        "We need to do the following:-\n",
        "- Stop word removal\n",
        "- Punctuation removal\n",
        "- Tokenisation\n",
        "- Lowercasing\n",
        "- Stemming"
      ],
      "metadata": {
        "id": "8itpmmGgTZEw"
      }
    },
    {
      "cell_type": "code",
      "source": [
        "from nltk.stem.porter import PorterStemmer\n",
        "import nltk\n",
        "nltk.download('punkt')\n",
        "nltk.download('stopwords')"
      ],
      "metadata": {
        "colab": {
          "base_uri": "https://localhost:8080/"
        },
        "id": "btW16FiJTbw6",
        "outputId": "2db2e0c9-617a-4427-c471-a2d377957b81"
      },
      "execution_count": 17,
      "outputs": [
        {
          "output_type": "stream",
          "name": "stderr",
          "text": [
            "[nltk_data] Downloading package punkt to /root/nltk_data...\n",
            "[nltk_data]   Unzipping tokenizers/punkt.zip.\n",
            "[nltk_data] Downloading package stopwords to /root/nltk_data...\n",
            "[nltk_data]   Unzipping corpora/stopwords.zip.\n"
          ]
        },
        {
          "output_type": "execute_result",
          "data": {
            "text/plain": [
              "True"
            ]
          },
          "metadata": {},
          "execution_count": 17
        }
      ]
    },
    {
      "cell_type": "code",
      "source": [
        "print(nltk.corpus.stopwords.words('english'))"
      ],
      "metadata": {
        "colab": {
          "base_uri": "https://localhost:8080/"
        },
        "id": "hpci1TzmUqOT",
        "outputId": "bca7a908-3cc2-48af-e6bc-e260051569c8"
      },
      "execution_count": 18,
      "outputs": [
        {
          "output_type": "stream",
          "name": "stdout",
          "text": [
            "['i', 'me', 'my', 'myself', 'we', 'our', 'ours', 'ourselves', 'you', \"you're\", \"you've\", \"you'll\", \"you'd\", 'your', 'yours', 'yourself', 'yourselves', 'he', 'him', 'his', 'himself', 'she', \"she's\", 'her', 'hers', 'herself', 'it', \"it's\", 'its', 'itself', 'they', 'them', 'their', 'theirs', 'themselves', 'what', 'which', 'who', 'whom', 'this', 'that', \"that'll\", 'these', 'those', 'am', 'is', 'are', 'was', 'were', 'be', 'been', 'being', 'have', 'has', 'had', 'having', 'do', 'does', 'did', 'doing', 'a', 'an', 'the', 'and', 'but', 'if', 'or', 'because', 'as', 'until', 'while', 'of', 'at', 'by', 'for', 'with', 'about', 'against', 'between', 'into', 'through', 'during', 'before', 'after', 'above', 'below', 'to', 'from', 'up', 'down', 'in', 'out', 'on', 'off', 'over', 'under', 'again', 'further', 'then', 'once', 'here', 'there', 'when', 'where', 'why', 'how', 'all', 'any', 'both', 'each', 'few', 'more', 'most', 'other', 'some', 'such', 'no', 'nor', 'not', 'only', 'own', 'same', 'so', 'than', 'too', 'very', 's', 't', 'can', 'will', 'just', 'don', \"don't\", 'should', \"should've\", 'now', 'd', 'll', 'm', 'o', 're', 've', 'y', 'ain', 'aren', \"aren't\", 'couldn', \"couldn't\", 'didn', \"didn't\", 'doesn', \"doesn't\", 'hadn', \"hadn't\", 'hasn', \"hasn't\", 'haven', \"haven't\", 'isn', \"isn't\", 'ma', 'mightn', \"mightn't\", 'mustn', \"mustn't\", 'needn', \"needn't\", 'shan', \"shan't\", 'shouldn', \"shouldn't\", 'wasn', \"wasn't\", 'weren', \"weren't\", 'won', \"won't\", 'wouldn', \"wouldn't\"]\n"
          ]
        }
      ]
    },
    {
      "cell_type": "code",
      "source": [
        "ps = PorterStemmer()\n",
        "\n",
        "def clean_tokenized_sentence(s):\n",
        "    # Create empty string to store processed sentence.\n",
        "    cleaned_s = \"\"  \n",
        "\n",
        "    words = nltk.word_tokenize(s)\n",
        "    \n",
        "    for word in words:\n",
        "        # Convert to lowercase \n",
        "        c_word = word.lower()\n",
        "\n",
        "        # Remove stopwords and punctuations\n",
        "        if c_word != '' and c_word not in nltk.corpus.stopwords.words('english') and c_word.isalnum():\n",
        "            # Append the stemmed word into cleaned sms\n",
        "            cleaned_s = cleaned_s + \" \" + ps.stem(c_word)\n",
        "\n",
        "    return(cleaned_s.strip())"
      ],
      "metadata": {
        "id": "HrA2xbH1V_jC"
      },
      "execution_count": 19,
      "outputs": []
    },
    {
      "cell_type": "code",
      "source": [
        "df[\"cleaned_sms\"] = df[\"sms\"].apply(clean_tokenized_sentence)\n",
        "df.head(10)"
      ],
      "metadata": {
        "colab": {
          "base_uri": "https://localhost:8080/",
          "height": 363
        },
        "id": "8Qu42jxdWZqR",
        "outputId": "6c2c159e-b959-47c7-9bb8-7abcc09df033"
      },
      "execution_count": 20,
      "outputs": [
        {
          "output_type": "execute_result",
          "data": {
            "text/plain": [
              "   spam                                                sms  \\\n",
              "0     0  Go until jurong point, crazy.. Available only ...   \n",
              "1     0                      Ok lar... Joking wif u oni...   \n",
              "2     1  Free entry in 2 a wkly comp to win FA Cup fina...   \n",
              "3     0  U dun say so early hor... U c already then say...   \n",
              "4     0  Nah I don't think he goes to usf, he lives aro...   \n",
              "5     1  FreeMsg Hey there darling it's been 3 week's n...   \n",
              "6     0  Even my brother is not like to speak with me. ...   \n",
              "7     0  As per your request 'Melle Melle (Oru Minnamin...   \n",
              "8     1  WINNER!! As a valued network customer you have...   \n",
              "9     1  Had your mobile 11 months or more? U R entitle...   \n",
              "\n",
              "                                         cleaned_sms  \n",
              "0  go jurong point crazi avail bugi n great world...  \n",
              "1                              ok lar joke wif u oni  \n",
              "2  free entri 2 wkli comp win fa cup final tkt 21...  \n",
              "3                u dun say earli hor u c alreadi say  \n",
              "4               nah think goe usf live around though  \n",
              "5  freemsg hey darl 3 week word back like fun sti...  \n",
              "6      even brother like speak treat like aid patent  \n",
              "7  per request mell oru minnaminungint nurungu ve...  \n",
              "8  winner valu network custom select receivea pri...  \n",
              "9  mobil 11 month u r entitl updat latest colour ...  "
            ],
            "text/html": [
              "\n",
              "  <div id=\"df-17fe49dc-c3f9-4525-ac25-7e13b1c4fe1a\">\n",
              "    <div class=\"colab-df-container\">\n",
              "      <div>\n",
              "<style scoped>\n",
              "    .dataframe tbody tr th:only-of-type {\n",
              "        vertical-align: middle;\n",
              "    }\n",
              "\n",
              "    .dataframe tbody tr th {\n",
              "        vertical-align: top;\n",
              "    }\n",
              "\n",
              "    .dataframe thead th {\n",
              "        text-align: right;\n",
              "    }\n",
              "</style>\n",
              "<table border=\"1\" class=\"dataframe\">\n",
              "  <thead>\n",
              "    <tr style=\"text-align: right;\">\n",
              "      <th></th>\n",
              "      <th>spam</th>\n",
              "      <th>sms</th>\n",
              "      <th>cleaned_sms</th>\n",
              "    </tr>\n",
              "  </thead>\n",
              "  <tbody>\n",
              "    <tr>\n",
              "      <th>0</th>\n",
              "      <td>0</td>\n",
              "      <td>Go until jurong point, crazy.. Available only ...</td>\n",
              "      <td>go jurong point crazi avail bugi n great world...</td>\n",
              "    </tr>\n",
              "    <tr>\n",
              "      <th>1</th>\n",
              "      <td>0</td>\n",
              "      <td>Ok lar... Joking wif u oni...</td>\n",
              "      <td>ok lar joke wif u oni</td>\n",
              "    </tr>\n",
              "    <tr>\n",
              "      <th>2</th>\n",
              "      <td>1</td>\n",
              "      <td>Free entry in 2 a wkly comp to win FA Cup fina...</td>\n",
              "      <td>free entri 2 wkli comp win fa cup final tkt 21...</td>\n",
              "    </tr>\n",
              "    <tr>\n",
              "      <th>3</th>\n",
              "      <td>0</td>\n",
              "      <td>U dun say so early hor... U c already then say...</td>\n",
              "      <td>u dun say earli hor u c alreadi say</td>\n",
              "    </tr>\n",
              "    <tr>\n",
              "      <th>4</th>\n",
              "      <td>0</td>\n",
              "      <td>Nah I don't think he goes to usf, he lives aro...</td>\n",
              "      <td>nah think goe usf live around though</td>\n",
              "    </tr>\n",
              "    <tr>\n",
              "      <th>5</th>\n",
              "      <td>1</td>\n",
              "      <td>FreeMsg Hey there darling it's been 3 week's n...</td>\n",
              "      <td>freemsg hey darl 3 week word back like fun sti...</td>\n",
              "    </tr>\n",
              "    <tr>\n",
              "      <th>6</th>\n",
              "      <td>0</td>\n",
              "      <td>Even my brother is not like to speak with me. ...</td>\n",
              "      <td>even brother like speak treat like aid patent</td>\n",
              "    </tr>\n",
              "    <tr>\n",
              "      <th>7</th>\n",
              "      <td>0</td>\n",
              "      <td>As per your request 'Melle Melle (Oru Minnamin...</td>\n",
              "      <td>per request mell oru minnaminungint nurungu ve...</td>\n",
              "    </tr>\n",
              "    <tr>\n",
              "      <th>8</th>\n",
              "      <td>1</td>\n",
              "      <td>WINNER!! As a valued network customer you have...</td>\n",
              "      <td>winner valu network custom select receivea pri...</td>\n",
              "    </tr>\n",
              "    <tr>\n",
              "      <th>9</th>\n",
              "      <td>1</td>\n",
              "      <td>Had your mobile 11 months or more? U R entitle...</td>\n",
              "      <td>mobil 11 month u r entitl updat latest colour ...</td>\n",
              "    </tr>\n",
              "  </tbody>\n",
              "</table>\n",
              "</div>\n",
              "      <button class=\"colab-df-convert\" onclick=\"convertToInteractive('df-17fe49dc-c3f9-4525-ac25-7e13b1c4fe1a')\"\n",
              "              title=\"Convert this dataframe to an interactive table.\"\n",
              "              style=\"display:none;\">\n",
              "        \n",
              "  <svg xmlns=\"http://www.w3.org/2000/svg\" height=\"24px\"viewBox=\"0 0 24 24\"\n",
              "       width=\"24px\">\n",
              "    <path d=\"M0 0h24v24H0V0z\" fill=\"none\"/>\n",
              "    <path d=\"M18.56 5.44l.94 2.06.94-2.06 2.06-.94-2.06-.94-.94-2.06-.94 2.06-2.06.94zm-11 1L8.5 8.5l.94-2.06 2.06-.94-2.06-.94L8.5 2.5l-.94 2.06-2.06.94zm10 10l.94 2.06.94-2.06 2.06-.94-2.06-.94-.94-2.06-.94 2.06-2.06.94z\"/><path d=\"M17.41 7.96l-1.37-1.37c-.4-.4-.92-.59-1.43-.59-.52 0-1.04.2-1.43.59L10.3 9.45l-7.72 7.72c-.78.78-.78 2.05 0 2.83L4 21.41c.39.39.9.59 1.41.59.51 0 1.02-.2 1.41-.59l7.78-7.78 2.81-2.81c.8-.78.8-2.07 0-2.86zM5.41 20L4 18.59l7.72-7.72 1.47 1.35L5.41 20z\"/>\n",
              "  </svg>\n",
              "      </button>\n",
              "      \n",
              "  <style>\n",
              "    .colab-df-container {\n",
              "      display:flex;\n",
              "      flex-wrap:wrap;\n",
              "      gap: 12px;\n",
              "    }\n",
              "\n",
              "    .colab-df-convert {\n",
              "      background-color: #E8F0FE;\n",
              "      border: none;\n",
              "      border-radius: 50%;\n",
              "      cursor: pointer;\n",
              "      display: none;\n",
              "      fill: #1967D2;\n",
              "      height: 32px;\n",
              "      padding: 0 0 0 0;\n",
              "      width: 32px;\n",
              "    }\n",
              "\n",
              "    .colab-df-convert:hover {\n",
              "      background-color: #E2EBFA;\n",
              "      box-shadow: 0px 1px 2px rgba(60, 64, 67, 0.3), 0px 1px 3px 1px rgba(60, 64, 67, 0.15);\n",
              "      fill: #174EA6;\n",
              "    }\n",
              "\n",
              "    [theme=dark] .colab-df-convert {\n",
              "      background-color: #3B4455;\n",
              "      fill: #D2E3FC;\n",
              "    }\n",
              "\n",
              "    [theme=dark] .colab-df-convert:hover {\n",
              "      background-color: #434B5C;\n",
              "      box-shadow: 0px 1px 3px 1px rgba(0, 0, 0, 0.15);\n",
              "      filter: drop-shadow(0px 1px 2px rgba(0, 0, 0, 0.3));\n",
              "      fill: #FFFFFF;\n",
              "    }\n",
              "  </style>\n",
              "\n",
              "      <script>\n",
              "        const buttonEl =\n",
              "          document.querySelector('#df-17fe49dc-c3f9-4525-ac25-7e13b1c4fe1a button.colab-df-convert');\n",
              "        buttonEl.style.display =\n",
              "          google.colab.kernel.accessAllowed ? 'block' : 'none';\n",
              "\n",
              "        async function convertToInteractive(key) {\n",
              "          const element = document.querySelector('#df-17fe49dc-c3f9-4525-ac25-7e13b1c4fe1a');\n",
              "          const dataTable =\n",
              "            await google.colab.kernel.invokeFunction('convertToInteractive',\n",
              "                                                     [key], {});\n",
              "          if (!dataTable) return;\n",
              "\n",
              "          const docLinkHtml = 'Like what you see? Visit the ' +\n",
              "            '<a target=\"_blank\" href=https://colab.research.google.com/notebooks/data_table.ipynb>data table notebook</a>'\n",
              "            + ' to learn more about interactive tables.';\n",
              "          element.innerHTML = '';\n",
              "          dataTable['output_type'] = 'display_data';\n",
              "          await google.colab.output.renderOutput(dataTable, element);\n",
              "          const docLink = document.createElement('div');\n",
              "          docLink.innerHTML = docLinkHtml;\n",
              "          element.appendChild(docLink);\n",
              "        }\n",
              "      </script>\n",
              "    </div>\n",
              "  </div>\n",
              "  "
            ]
          },
          "metadata": {},
          "execution_count": 20
        }
      ]
    },
    {
      "cell_type": "markdown",
      "source": [
        "### 20 most frequently occuring words in spam and non-spam sms"
      ],
      "metadata": {
        "id": "da0dpVgQdwlx"
      }
    },
    {
      "cell_type": "code",
      "source": [
        "ham = df[df['spam'] == 0]['cleaned_sms']\n",
        "spam = df[df['spam'] == 1]['cleaned_sms']\n",
        "spam"
      ],
      "metadata": {
        "colab": {
          "base_uri": "https://localhost:8080/"
        },
        "id": "28md11tAd3JT",
        "outputId": "6ed20495-1033-4a4f-d72e-b97dcf47f7c9"
      },
      "execution_count": 21,
      "outputs": [
        {
          "output_type": "execute_result",
          "data": {
            "text/plain": [
              "2       free entri 2 wkli comp win fa cup final tkt 21...\n",
              "5       freemsg hey darl 3 week word back like fun sti...\n",
              "8       winner valu network custom select receivea pri...\n",
              "9       mobil 11 month u r entitl updat latest colour ...\n",
              "11      six chanc win cash 100 pound txt csh11 send 87...\n",
              "                              ...                        \n",
              "5537    want explicit sex 30 sec ring 02073162414 cost...\n",
              "5540    ask 3mobil 0870 chatlin inclu free min india c...\n",
              "5547    contract mobil 11 mnth latest motorola nokia e...\n",
              "5566    remind o2 get pound free call credit detail gr...\n",
              "5567    2nd time tri 2 contact u pound prize 2 claim e...\n",
              "Name: cleaned_sms, Length: 653, dtype: object"
            ]
          },
          "metadata": {},
          "execution_count": 21
        }
      ]
    },
    {
      "cell_type": "markdown",
      "source": [
        "Now, to get a list of words belonging to the respective category, we first need to join all SMS to form a single text of the given category, and then tokenise that string."
      ],
      "metadata": {
        "id": "Lu-Uxlise3DX"
      }
    },
    {
      "cell_type": "code",
      "source": [
        "ham = \" \".join(ham)\n",
        "spam = \" \".join(spam)\n",
        "spam"
      ],
      "metadata": {
        "colab": {
          "base_uri": "https://localhost:8080/",
          "height": 163
        },
        "id": "Xb_AuR31fCUf",
        "outputId": "9ed74db9-0b23-4fed-fb93-e45166eae7d1"
      },
      "execution_count": 22,
      "outputs": [
        {
          "output_type": "execute_result",
          "data": {
            "text/plain": [
              "'free entri 2 wkli comp win fa cup final tkt 21st may 2005 text fa 87121 receiv entri question std txt rate c appli 08452810075over18 freemsg hey darl 3 week word back like fun still tb ok xxx std chg send rcv winner valu network custom select receivea prize reward claim call 09061701461 claim code kl341 valid 12 hour mobil 11 month u r entitl updat latest colour mobil camera free call mobil updat co free 08002986030 six chanc win cash 100 pound txt csh11 send 87575 cost 6day tsandc appli repli hl 4 info urgent 1 week free membership prize jackpot txt word claim 81010 c lccltd pobox 4403ldnw1a7rw18 xxxmobilemovieclub use credit click wap link next txt messag click http england v macedonia dont miss news txt ur nation team 87077 eg england 87077 tri wale scotland poboxox36504w45wq thank subscript rington uk mobil charg pleas confirm repli ye repli charg 07732584351 rodger burn msg tri call repli sm free nokia mobil free camcord pleas call 08000930705 deliveri tomorrow sm ac sptv new jersey devil detroit red wing play ice hockey correct incorrect end repli end sptv congrat 1 year special cinema pass 2 call 09061209465 c suprman v matrix3 starwars3 etc 4 free 150pm dont miss valu custom pleas advis follow recent review mob award bonu prize call 09066364589 urgent ur award complimentari trip eurodisinc trav aco entry41 claim txt di 87121 morefrmmob shracomorsglsuplt 10 ls1 3aj hear new come ken stuff pleas call custom servic repres 0800 169 6031 guarante cash prize free rington wait collect simpli text password 85069 verifi get usher britney fml gent tri contact last weekend draw show prize guarante call 09064012160 claim code k52 valid 12hr 150ppm winner u special select 2 receiv 4 holiday flight inc speak live oper 2 claim privat 2004 account statement 07742676969 show 786 unredeem bonu point claim call 08719180248 identifi code 45239 expir urgent mobil award bonu caller prize final tri contact u call landlin 09064019788 box42wr29c 150ppm today voda number end 7548 select receiv 350 award match pleas call 08712300220 quot claim code 4041 standard rate app sunshin quiz wkli q win top soni dvd player u know countri algarv txt ansr sp tyron want 2 get laid tonight want real dog locat sent direct 2 ur mob join uk largest dog network bt txting gravel 69888 nt ec2a 150p rcv msg chat svc free hardcor servic text go 69988 u get noth u must age verifi yr network tri freemsg repli text randi sexi femal live local luv hear netcollex ltd 08700621170150p per msg repli stop end custom servic annonc new year deliveri wait pleas call 07046744435 arrang deliveri winner u special select 2 receiv cash 4 holiday flight inc speak live oper 2 claim 0871277810810 stop bootydeli invit friend repli see stop send stop frnd 62468 bangbab ur order way u receiv servic msg 2 download ur content u goto wap bangb tv ur mobil menu urgent tri contact last weekend draw show prize guarante call 09061701939 claim code s89 valid 12hr pleas call custom servic repres freephon 0808 145 4742 guarante cash prize uniqu enough find 30th august 500 new mobil 2004 must go txt nokia 89545 collect today 2optout u meet ur dream partner soon ur career 2 flyng start 2 find free txt horo follow ur star sign horo ari text meet someon sexi today u find date even flirt u join 4 10p repli name age eg sam 25 18 recd thirtyeight penc u 447801259231 secret admir look 2 make contact r reveal think ur 09058094597 congratul ur award 500 cd voucher 125gift guarante free entri 2 100 wkli draw txt music 87066 tnc tri contact repli offer video handset 750 anytim network min unlimit text camcord repli call 08000930705 hey realli horni want chat see nake text hot 69698 text charg 150pm unsubscrib text stop 69698 ur rington servic chang 25 free credit go choos content stop txt club stop 87070 club4 po box1146 mk45 2wt rington club get uk singl chart mobil week choos top qualiti rington messag free charg hmv bonu special 500 pound genuin hmv voucher answer 4 easi question play send hmv 86688 info custom may claim free camera phone upgrad pay go sim card loyalti call 0845 021 end c appli sm ac blind date 4u rodds1 aberdeen unit kingdom check http sm blind date send hide themob check newest select content game tone gossip babe sport keep mobil fit funki text wap 82468 think ur smart win week weekli quiz text play 85222 cs winnersclub po box 84 m26 3uz decemb mobil entitl updat latest colour camera mobil free call mobil updat co free 08002986906 call germani 1 penc per minut call fix line via access number 0844 861 85 85 prepay direct access valentin day special win quiz take partner trip lifetim send go 83600 rcvd fanci shag txt xxuk suzi 69876 txt cost per msg tnc websit x ur current 500 pound maxim ur send cash 86688 cc 08708800282 xma offer latest motorola sonyericsson nokia free bluetooth doubl min 1000 txt orang call mobileupd8 08000839402 discount code rp176781 stop messag repli stop custom servic 08717205546 thank rington order refer t91 charg gbp 4 per week unsubscrib anytim call custom servic 09057039994 doubl min txt 4 6month free bluetooth orang avail soni nokia motorola phone call mobileupd8 08000839402 4mth half price orang line rental latest camera phone 4 free phone 11mth call mobilesdirect free 08000938767 updat or2stoptxt free rington text first 87131 poli text get 87131 true tone help 0845 2814032 16 1st free tone txt stop 100 date servic cal l 09064012103 box334sk38ch free entri weekli competit text word win 80086 18 c send logo 2 ur lover 2 name join heart txt love name1 name2 mobno eg love adam eve 07123456789 87077 yahoo pobox36504w45wq txtno 4 ad 150p someon contact date servic enter phone fanci find call landlin 09111032124 pobox12n146tf150p urgent mobil number award prize guarante call 09058094455 land line claim 3030 valid 12hr congrat nokia 3650 video camera phone call 09066382422 call cost 150ppm ave call 3min vari mobil close 300603 post bcm4284 ldn wc1n3xx loan purpos homeown tenant welcom previous refus still help call free 0800 1956669 text back upgrdcentr orang custom may claim free camera phone upgrad loyalti call 0207 153 9153 offer end 26th juli c appli avail okmail dear dave final notic collect 4 tenerif holiday 5000 cash award call 09061743806 landlin tc sae box326 cw25wx 150ppm want 2 get laid tonight want real dog locat sent direct 2 ur mob join uk largest dog network txting moan 69888nyt ec2a 150p free messag activ 500 free text messag repli messag word free term condit visit congrat 1 year special cinema pass 2 call 09061209465 c suprman v matrix3 starwars3 etc 4 free 150pm dont miss congratul week competit draw u prize claim call 09050002311 b4280703 sm 08718727868 18 150ppm guarante latest nokia phone 40gb ipod mp3 player prize txt word collect 83355 ibhltd ldnw15h boltblu tone 150p repli poli mono eg poly3 1 cha cha slide 2 yeah 3 slow jamz 6 toxic 8 come stop 4 tone txt credit top http renew pin tgxxrz urgent mobil award bonu caller prize 2nd attempt contact call box95qu today offer claim ur worth discount voucher text ye 85023 savamob member offer mobil cs sub 16 unsub repli x reciev tone within next 24hr term condit pleas see channel u teletext pg 750 privat 2003 account statement 07815296484 show 800 point call 08718738001 identifi code 41782 expir monthlysubscript csc web age16 2stop txt stop gent tri contact last weekend draw show prize guarante call 09064012160 claim code k52 valid 12hr 150ppm cash prize claim call09050000327 mobil number claim call us back ring claim hot line 09050005321 tri contact repli offer 750 min 150 textand new video phone call 08002988890 repli free deliveri tomorrow ur chanc win wkli shop spree txt shop 80878 c custcar 08715705022 special select receiv 2000 pound award call 08712402050 line close cost 10ppm cs appli ag promo privat 2003 account statement 07753741225 show 800 point call 08715203677 identifi code 42478 expir import custom servic announc call freephon 0800 542 0825 xclusiv clubsaisai 2morow soire special zouk nichol rose 2 ladi info 22 day kick euro2004 u kept date latest news result daili remov send get txt stop 83222 new textbuddi chat 2 horni guy ur area 4 25p free 2 receiv search postcod txt one name 89693 today vodafon number end 4882 select receiv award number match call 09064019014 receiv award dear voucher holder 2 claim week offer pc go http ts cs stop text txt stop 80062 privat 2003 account statement show 800 point call 08715203694 identifi code 40533 expir cash prize claim call09050000327 c rstm sw7 3ss 150ppm 88800 89034 premium phone servic call 08718711108 sm ac sun0819 post hello seem cool get ur 1st rington free repli msg tone gr8 top 20 tone phone everi week per wk 2 opt send stop 08452810071 16 hi sue 20 year old work lapdanc love sex text live bedroom text sue 89555 textoper g2 1da 150ppmsg forward 448712404000 pleas call 08712404000 immedi urgent messag wait review keep fantast nokia game deck club nokia go 2 unsubscrib alert repli word 4mth half price orang line rental latest camera phone 4 free phone call mobilesdirect free 08000938767 updat or2stoptxt cs 08714712388 cost 10p urgent 2nd attempt contact u u call 09071512433 b4 050703 csbcm4235wc1n3xx callcost 150ppm mobilesvari 50 guarante cash prize claim yr prize call custom servic repres 08714712394 email alertfrom jeri stewarts 2kbsubject prescripiton drvgsto listen email call 123 hi custom loyalti offer new nokia6650 mobil txtauction txt word start 81151 get 4t ctxt tc u subscrib best mobil content servic uk per 10 day send stop 82324 helplin 08706091795 realiz 40 year thousand old ladi run around tattoo import custom servic announc premier romant pari 2 night 2 flight book 4 next year call 08704439680t cs appli urgent ur guarante award still unclaim call 09066368327 claimcod m39m51 ur award citi break could win summer shop spree everi wk txt store 88039 skilgm tscs087147403231winawk age16 import custom servic announc premier call freephon 0800 542 0578 ever thought live good life perfect partner txt back name age join mobil commun 5 free top polyphon tone call 087018728737 nation rate get toppoli tune sent everi week text subpoli 81618 per pole unsub 08718727870 orang custom may claim free camera phone upgrad loyalti call 0207 153 9996 offer end 14thmarch c appli availa last chanc claim ur worth discount voucher today text shop 85023 savamob offer mobil cs savamob pobox84 m263uz sub 16 free 1st week no1 nokia tone 4 ur mobil everi week txt nokia 8077 get txting tell ur mate pobox 36504 w45wq guarante award even cashto claim ur award call free 08000407165 2 stop getstop 88222 php rg21 4jx congratul ur award either cd gift voucher free entri 2 weekli draw txt music 87066 tnc u outbid simonwatson5120 shinco dvd plyr 2 bid visit sm 2 end bid notif repli end smsservic yourinclus text credit pl goto 3qxj9 unsubscrib stop extra charg help 9ae 25p 4 alfi moon children need song ur mob tell ur m8 txt tone chariti 8007 nokia poli chariti poli zed 08701417012 profit 2 chariti u secret admir reveal think u r special call 09065174042 opt repli reveal stop per msg recd cust care 07821230901 dear voucher holder claim week offer pc pleas go http ts cs appli stop text txt stop 80062 want 750 anytim network min 150 text new video phone five pound per week call 08002888812 repli deliveri tomorrow tri contact offer new video phone 750 anytim network min half price rental camcord call 08000930705 repli deliveri wed last chanc 2 claim ur worth discount ye 85023 offer mobil cs sub 16 remov txt x stop urgent call 09066350750 landlin complimentari 4 ibiza holiday cash await collect sae cs po box 434 sk3 8wp 150 ppm talk sexi make new friend fall love world discreet text date servic text vip 83110 see could meet congratul ur award either yr suppli cd virgin record mysteri gift guarante call 09061104283 ts cs approx 3min privat 2003 account statement 07808 xxxxxx show 800 point call 08719899217 identifi code 41685 expir hello need posh bird chap user trial prod champney put need address dob asap ta r u want xma 100 free text messag new video phone half price line rental call free 0800 0721072 find shop till u drop either 10k 5k cash travel voucher call 09064011000 ntt po box cr01327bt fixedlin cost 150ppm mobil vari sunshin quiz wkli q win top soni dvd player u know countri liverpool play mid week txt ansr sp tyron u secret admir look 2 make contact r reveal think ur 09058094565 u secret admir look 2 make contact r reveal think ur remind download content alreadi paid goto http mymobi collect content lastest stereophon marley dizze racal libertin stroke win nookii game flirt click themob wap bookmark text wap 82468 januari male sale hot gay chat cheaper call 08709222922 nation rate cheap peak stop text call 08712460324 money r lucki winner 2 claim prize text money 2 88600 give away text rate box403 w1t1ji dear matthew pleas call 09063440451 landlin complimentari 4 lux tenerif holiday cash await collect ppm150 sae cs box334 sk38xh urgent call 09061749602 landlin complimentari 4 tenerif holiday cash await collect sae cs box 528 hp20 1yf 150ppm get touch folk wait compani txt back name age opt enjoy commun ur current 500 pound maxim ur send go 86688 cc 08718720201 po box filthi stori girl wait urgent tri contact today draw show prize guarante call 09050001808 land line claim m95 valid12hr congrat 2 mobil 3g videophon r call 09063458130 videochat wid mate play java game dload polyph music nolin rentl panason bluetoothhdset free nokia free motorola free doublemin doubletxt orang contract call mobileupd8 08000839402 call 2optout free 1st week no1 nokia tone 4 ur mob everi week txt nokia 8007 get txting tell ur mate pobox 36504 w45wq guess somebodi know secretli fanci wan na find give us call 09065394514 landlin datebox1282essexcm61xn 18 know someon know fanci call 09058097218 find pobox 6 ls15hb 150p 1000 flirt txt girl bloke ur name age eg girl zoe 18 8007 join get chat 18 day euro2004 kickoff u kept inform latest news result daili unsubscrib send get euro stop 83222 eastend tv quiz flower dot compar violet tulip lili txt e f 84025 4 chanc 2 win cash new local date area lot new peopl regist area repli date start 18 replys150 someon u know ask date servic 2 contact cant guess call 09058091854 reveal po box385 m6 6wu urgent tri contact today draw show prize guarante call 09050003091 land line claim c52 valid12hr dear u invit xchat final attempt contact u txt chat 86688 award sipix digit camera call 09061221061 landlin deliveri within 28day cs box177 m221bp 2yr warranti 150ppm 16 p win urgent mobil number award prize guarante call 09061790121 land line claim 3030 valid 12hr 150ppm dear subscrib ur draw 4 gift voucher b enter receipt correct an elvi presley birthday txt answer 80062 messag import inform o2 user today lucki day 2 find log onto http fantast surpris await 449050000301 price claim call 09050000301 bore speed date tri speedchat txt speedchat 80155 like em txt swap get new chatter chat80155 pobox36504w45wq rcd 16 want 750 anytim network min 150 text new video phone five pound per week call 08000776320 repli deliveri tomorrow take part mobil survey yesterday 500 text 2 use howev wish 2 get txt send txt 80160 c ur hmv quiz current maxim ur send hmv1 86688 dont forget place mani free request wish inform call 08707808226 know u u know send chat 86688 let find rcvd ldn 18 year thank winner notifi sm good luck futur market repli stop 84122 custom servic 08450542832 1000 girl mani local 2 u r virgin 2 r readi 2 4fil ur everi sexual need u 4fil text cute 69911 got take 2 take part wrc ralli oz u lucozad energi text ralli le 61200 25p see pack itcould u sex ur mobil free sexi pic jordan text babe 88600 everi wk get sexi celeb 4 pic 16 087016248 1 new voicemail pleas call 08719181503 win year suppli cd 4 store ur choic worth enter weekli draw txt music 87066 ts cs sim subscrib select receiv bonu get deliv door txt word ok 88600 claim exp 30apr 1 new voicemail pleas call 08719181513 1 nokia tone 4 ur mob everi week txt nok 87021 1st tone free get txtin tell ur friend 16 repli hl 4info repli name address receiv post week complet free accommod variou global locat free entri weekli comp send word enter 84128 18 c cust care 08712405020 pleas call 08712402779 immedi urgent messag wait hungri gay guy feel hungri 4 call 08718730555 stop text call 08712460324 u get 2 phone wan na chat 2 set meet call 09096102316 u cum 2moro luv jane xx network oper servic free c visit enjoy jamster videosound gold club credit 2 new get fun help call 09701213186 get 3 lion england tone repli lionm 4 mono lionp 4 poli 4 go 2 origin n best tone 3gbp network oper rate appli win newest potter order phoenix book 5 repli harri answer 5 question chanc first among reader ur balanc ur next question sang girl 80 2 answer txt ur answer 83600 good luck free2day sexi st georg day pic jordan txt pic 89080 dont miss everi wk sauci celeb 4 pic c 0870241182716 hot live fantasi call 08707509020 20p per min ntt ltd po box 1327 croydon cr9 5wb 0870 k bear pic nick tom pete dick fact type tri gay chat photo upload call 08718730666 2 stop text call 08712460324 500 new mobil 2004 must go txt nokia 89545 collect today 2optout txtauction doubl min doubl txt price linerent latest orang bluetooth mobil call mobileupd8 latest offer 08000839402 urgent import inform o2 user today lucki day 2 find log onto http fantast surpris await dear u invit xchat final attempt contact u txt chat 86688 ldn 18 yr congratul ur award either cd gift voucher free entri 2 weekli draw txt music 87066 tnc 1 win150ppmx3age16 sale arsen dartboard good condit doubl trebl free 1st week entri 2 textpod 4 chanc 2 win 40gb ipod cash everi wk txt pod 84128 ts cs custcar 08712405020 regist optin subscrib ur draw 4 gift voucher enter receipt correct an 80062 what no1 bbc chart summer final fanci chat flirt sexi singl yr area get match repli summer free 2 join optout txt stop help08714742804 clair havin borin time alon u wan na cum 2nite chat 09099725823 hope 2 c u luv clair xx bought one rington get text cost 3 pound offer tone etc 09066362231 urgent mobil 07xxxxxxxxx bonu caller prize 2nd attempt reach call 09066362231 asap 07801543489 guarante latest nokia phone 40gb ipod mp3 player prize txt word collect hi luci hubbi meetin day fri b alon hotel u fanci cumin pl leav msg 2day 09099726395 luci x account credit 500 free text messag activ txt word credit 80488 cs sm ac jsco energi high u may know 2channel 2day ur leadership skill r strong psychic repli an end repli end jsco hot live fantasi call 08707509020 20p per min ntt ltd po box 1327 croydon cr9 5wb 0870 nation rate call thank vote sing along star karaok mobil free link repli sing brand new mobil music servic live free music player arriv shortli instal phone brows content top artist urgent mobil award bonu caller prize 2nd attempt contact call box95qu bt nation rate nokia 7250i get win free auction take part send nokia 86021 hello orang 1 month free access game news sport plu 10 free text 20 photo messag repli ye term appli ur current 500 pound maxim ur send go 86688 cc 08718720201 sm auction brand new nokia 7250 4 auction today auction free 2 join take part txt nokia 86021 privat 2003 account statement show 800 point call 08719899230 identifi code 41685 expir regist subscrib yr draw 4 gift voucher b enter receipt correct an next olymp txt an 80062 urgent mobil number award prize guarante call 09061790121 land line claim 3030 valid 12hr 150ppm pro video club need help info call 08701237397 must club credit redeem enjoy u secret admir look 2 make contact r reveal think ur 09058094599 500 free text msg text ok 80488 credit account select stay 1 250 top british hotel noth holiday worth claim call london 02072069400 bx 526 sw73ss eeri nokia tone 4u rpli tone titl 8007 eg tone dracula 8007 titl ghost addamsfa munster exorcist twilight pobox36504w45wq 150p 0a network allow compani bill sm respons freemsg feelin kinda lnli hope u like 2 keep compani jst got cam mobi wan na c pic txt repli date 82242 msg150p 2rcv hlp 08712317606 stop 82242 ur chanc win cash everi wk txt action 80608 c custcar 08712405022 rgent 2nd attempt contact u u call 09071512433 b4 050703 csbcm4235wc1n3xx callcost 150ppm mobilesvari 50 hi ur lookin 4 sauci daytim fun wiv busti marri woman free next week chat 2 sort time 09099726429 janinexx urgent tri contact today draw show prize guarante call 09050001295 land line claim a21 valid 12hr monthli password wap 391784 use wap phone pc today vodafon number end 0089 last four digit select receiv award number match pleas call 09063442151 claim award free top rington weekli 1st week subpoli 3 per free msg sorri servic order 81303 could deliv suffici credit pleas top receiv servic hard live 121 chat choos girl connect live call 09094646899 cheap chat uk biggest live servic vu bcm1896wc1n3xx wow boy r back take 2007 uk tour win vip ticket vip club txt club 81303 trackmarqu ltd info vipclub4u hi mandi sullivan call hotmix fm chosen receiv easter prize draw pleas telephon 09041940223 claim prize transfer someon els ur go 2 bahama callfreefon 08081560665 speak live oper claim either bahama cruis cash opt txt x 07786200117 someon conact date servic enter phone fanci find call landlin 09111030116 pobox12n146tf15 hi 07734396839 ibh custom loyalti offer new nokia6600 mobil txtauction txt word start get 4t sm auction nokia 7250i get win free auction take part send nokia 86021 call freephon 0800 542 0578 buy space invad 4 chanc 2 win orig arcad game consol press 0 game arcad std wap charg see 4 term set purchas big brother alert comput select u 10k cash 150 voucher call 09064018838 ntt po box cro1327 bt landlin cost 150ppm mobil vari win winner foley ipod excit prize soon keep eye ur mobil visit today voda number end 1225 select receiv match pleas call 08712300220 quot claim code 3100 standard rate app hottest pic straight phone see get wet want xx text pic 89555 txt cost 150p textoper g696ga 18 xxx hack chat get backdoor entri 121 chat room fraction cost repli neo69 call 09050280520 subscrib 25p pm dp bcm box 8027 ldn wc1n3xx free nokia motorola upto 12mth linerent 500 free min free call mobileupd8 08001950382 call 2nd time tri 2 contact u 750 pound prize 2 claim easi call 08718726970 10p per min guarante cash claim yr prize call custom servic repres would like see xxx pic hot nearli ban uk u secret admir look 2 make contact r reveal think ur 09058094594 dear 0776xxxxxxx u invit xchat final attempt contact u txt chat 86688 ldn 18yr urgent pleas call 09061743811 landlin abta complimentari 4 tenerif holiday cash await collect sae cs box 326 cw25wx 150ppm call 09090900040 listen extrem dirti live chat go offic right total privaci one know sic listen 60p min freemsg hey u got 1 fone repli wild txt ill send u pic hurri im bore work xxx 18 stop2stop free entri 2 weekli comp chanc win ipod txt pod 80182 get entri std txt rate c appli 08452810073 detail new textbuddi chat 2 horni guy ur area 4 25p free 2 receiv search postcod txt one name 89693 08715500022 rpl stop 2 cnl call 08702490080 tell u 2 call 09066358152 claim prize u 2 enter ur mobil person detail prompt care free 1st week entri 2 textpod 4 chanc 2 win 40gb ipod cash everi wk txt vpod 81303 ts cs custcar 08712405020 peopl dog area call 09090204448 join like mind guy arrang 1 1 even minapn ls278bb well done 4 costa del sol holiday await collect call 09050090044 toclaim sae tc pobox334 stockport sk38xh max10min guess somebodi know secretli fanci wan na find give us call 09065394973 landlin datebox1282essexcm61xn 18 80488 500 free text messag valid 31 decemb 2005 guarante award even cashto claim ur award call free 08000407165 2 stop getstop 88222 php repli win weekli 2006 fifa world cup held send stop 87239 end servic urgent pleas call 09061743810 landlin abta complimentari 4 tenerif holiday 5000 cash await collect sae cs box 326 cw25wx 150 ppm free tone hope enjoy new content text stop 61610 unsubscrib provid themob yo yo come new select hot download member get free click open next link sent ur fone great news call freefon 08006344447 claim guarante cash gift speak live oper u win music gift voucher everi week start txt word draw 87066 tsc call 09094100151 use ur min call cast mob vari servic provid aom aom box61 m60 1er u stop age urgent mobil bonu caller prize 2nd attempt reach call 09066362220 asap box97n7qp 150ppm eeri nokia tone 4u rpli tone titl 8007 eg tone dracula 8007 titl ghost addamsfa munster exorcist twilight pobox36504w45wq 150p sexi singl wait text age follow gender wither f gay men text age follow freemsg claim ur 250 sm ok 84025 use web2mobil 2 ur mate etc join c box139 la32wu 16 remov txtx stop 85233 free rington repli real well done england get offici poli rington colour flag yer mobil text tone flag 84199 txt eng stop box39822 w111wx final chanc claim ur worth discount voucher today text ye 85023 savamob member offer mobil cs savamob pobox84 m263uz sub 16 sm servic inclus text credit pl goto unsubscrib stop extra charg po box420 ip4 5we winner special select receiv cash award speak live oper claim call cost 10p sunshin hol claim ur med holiday send stamp self address envelop drink us uk po box 113 bray wicklow eir quiz start saturday unsub stop u win music gift voucher everi week start txt word draw 87066 tsc skillgam 1winaweek age16 150ppermesssubscript b4u voucher marsm log onto discount credit opt repli stop custom care call 08717168528 freemsg hey buffi 25 love satisfi men home alon feel randi repli 2 c pix qlynnbv help08700621170150p msg send stop stop txt free 1st week no1 nokia tone 4 ur mob everi week txt nokia 87077 get txting tell ur mate zed pobox 36504 w45wq free camera phone linerent 750 cross ntwk min price txt bundl deal also avbl call 08001950382 mf urgent mobil 07xxxxxxxxx bonu caller prize 2nd attempt reach call 09066362231 asap box97n7qp 150ppm urgent 4 costa del sol holiday await collect call 09050090044 toclaim sae tc pobox334 stockport sk38xh max10min guarante cash prize claim yr prize call custom servic repres 08714712379 cost 10p thank rington order ref number k718 mobil charg tone arriv pleas call custom servic 09065069120 hi ya babe x u 4goten bout scammer get smart though regular vodafon respond get prem rate no use also bewar back 2 work 2morro half term u c 2nite 4 sexi passion b4 2 go back chat 09099726481 luv dena call thank rington order ref number r836 mobil charg tone arriv pleas call custom servic 09065069154 splashmobil choos 1000 gr8 tone wk subscrit servic weekli tone cost 300p u one credit kick back enjoy heard u4 call 4 rude chat privat line 01223585334 cum wan 2c pic gettin shag text pix 8552 2end send stop 8552 sam xxx forward 88877 free entri weekli comp send word enter 88877 18 c 88066 88066 lost 3pound help mobil 11mth updat free orang latest colour camera mobil unlimit weekend call call mobil upd8 freefon 08000839402 2stoptx 1 new messag pleas call 08718738034 forward 21870000 hi mailbox messag sm alert 4 messag 21 match pleas call back 09056242159 retriev messag match mobi pub high street prize u know new duchess cornwal txt first name stop 008704050406 sp arrow nokia 7250i get win free auction take part send nokia 86021 congratul thank good friend u xma prize 2 claim easi call 08718726971 10p per minut tddnewslett game thedailydraw dear helen dozen free game great prizeswith urgent mobil number bonu caller prize 2nd attempt reach call 09066368753 asap box 97n7qp 150ppm doubl min txt orang price linerent motorola sonyericsson free call mobileupd8 08000839402 download mani rington u like restrict 1000 2 choos u even send 2 yr buddi txt sir 80082 pleas call 08712402902 immedi urgent messag wait spook mob halloween collect logo pic messag plu free eeri tone txt card spook 8007 zed 08701417012150p per fantasi footbal back tv go sky gamestar sky activ play dream team score start saturday regist sky opt 88088 tone club sub expir 2 repli monoc 4 mono polyc 4 poli 1 weekli 150p per week txt stop 2 stop msg free stream 0871212025016 xma prize draw tri contact today draw show prize guarante call 09058094565 land line valid 12hr ye place town meet excit adult singl uk txt chat 86688 someon contact date servic enter phone becausethey fanci find call landlin 09058098002 pobox1 w14rg 150p babe u want dont u babi im nasti thing 4 filthyguy fanci rude time sexi bitch go slo n hard txt xxx slo 4msg sm servic inclus text credit pl gotto login 3qxj9 unsubscrib stop extra charg help 08702840625 9ae valentin day special win quiz take partner trip lifetim send go 83600 rcvd guess first time creat web page read wrote wait opinion want friend ur chanc win cash everi wk txt play 83370 c custcar 08715705022 sppok ur mob halloween collect nokia logo pic messag plu free eeri tone txt card spook 8007 urgent call 09066612661 landlin complementari 4 tenerif holiday cash await collect sae cs po box 3 wa14 2px 150ppm sender hol offer winner valu network custom hvae select receiv reward collect call 09061701444 valid 24 hour acl03530150pm u nokia 6230 plu free digit camera u get u win free auction take part send nokia 83383 16 free entri weekli comp send word win 80086 18 c text82228 get rington logo game question info freemsg award free mini digit camera repli snap collect prize quizclub opt stop sp rwm messag brought gmw connect congrat 2 mobil 3g videophon r call 09063458130 videochat wid ur mate play java game dload polyph music nolin rentl bx420 ip4 5we 150p next amaz xxx picsfree1 video sent enjoy one vid enough 2day text back keyword picsfree1 get next video u subscrib best mobil content servic uk per ten day send stop 83435 helplin 08706091795 3 free tarot text find love life tri 3 free text chanc 85555 16 3 free msg join uk horniest dog servic u sex 2nite sign follow instruct txt entri 69888 150p knock knock txt whose 80082 enter r weekli draw 4 gift voucher 4 store yr choic cs age16 forward 21870000 hi mailbox messag sm alert 40 match pleas call back 09056242159 retriev messag match free ring tone text 87131 everi week get new tone 0870737910216yr urgent mobil 077xxx bonu caller prize 2nd attempt reach call 09066362206 asap box97n7qp 150ppm guarante latest nokia phone 40gb ipod mp3 player prize txt word collect 83355 ibhltd ldnw15h hello darl today would love chat dont tell look like sexi 8007 free 1st week no1 nokia tone 4 ur mob everi week txt nokia 8007 get txting tell ur mate pobox 36504 w4 5wq norm wan na get laid 2nite want real dog locat sent direct ur mobil join uk largest dog network txt park 69696 nyt ec2a 3lp tri contact respons offer new nokia fone camcord hit repli call 08000930705 deliveri new tone week includ 1 ab 2 sara 3 order follow instruct next messag urgent tri contact today draw show prize guarante call 09050003091 land line claim c52 valid 12hr sport fan get latest sport news str 2 ur mobil 1 wk free plu free tone txt sport 8007 norm urgent urgent 800 free flight europ give away call b4 10th sept take friend 4 free call claim 09050000555 ba128nnfwfly150ppm 88066 lost help freemsg fanci flirt repli date join uk fastest grow mobil date servic msg rcvd 25p optout txt stop 83021 repli date great new offer doubl min doubl txt best orang tariff get latest camera phone 4 free call mobileupd8 free 08000839402 2stoptxt cs hope enjoy new content text stop 61610 unsubscrib provid urgent pleas call 09066612661 landlin cash luxuri 4 canari island holiday await collect cs sae award 20m12aq 150ppm urgent pleas call 09066612661 landlin complimentari 4 lux costa del sol holiday cash await collect ppm 150 sae cs jame 28 eh74rr marri local women look discreet action 5 real match instantli phone text match 69969 msg cost 150p 2 stop txt stop bcmsfwc1n3xx burger king wan na play footi top stadium get 2 burger king 1st sept go larg super walk winner come take littl time child afraid dark becom teenag want stay night ur chanc win cash everi wk txt action 80608 c custcar 08712405022 bin award play 4 instant cash call 08715203028 claim everi 9th player win min optout 08718727870 freemsg fav xma tone repli real decemb mobil entitl updat latest colour camera mobil free call mobil updat co free 08002986906 gr8 poli tone 4 mob direct 2u rpli poli titl 8007 eg poli breathe1 titl crazyin sleepingwith finest ymca pobox365o4w45wq 300p interflora åòit late order interflora flower christma call 0800 505060 place order midnight tomorrow romcapspam everyon around respond well presenc sinc warm outgo bring real breath sunshin congratul thank good friend u xma prize 2 claim easi call 08712103738 10p per minut send logo 2 ur lover 2 name join heart txt love name1 name2 mobno eg love adam eve 07123456789 87077 yahoo pobox36504w45wq txtno 4 ad 150p tkt euro2004 cup final cash collect call 09058099801 b4190604 pobox 7876150ppm jamster get crazi frog sound poli text mad1 real text mad2 88888 6 crazi sound 3 c appli chanc realiti fantasi show call 08707509020 20p per min ntt ltd po box 1327 croydon cr9 5wb 0870 nation rate call adult 18 content video shortli chanc realiti fantasi show call 08707509020 20p per min ntt ltd po box 1327 croydon cr9 5wb 0870 nation rate call hey boy want hot xxx pic sent direct 2 ur phone txt porn 69855 24hr free 50p per day stop text stopbcm sf wc1n3xx doubl min 1000 txt orang tariff latest motorola sonyericsson nokia bluetooth free call mobileupd8 08000839402 yhl ur current 500 pound maxim ur send cash 86688 cc 08718720201 po box urgent mobil number award prize guarante call 09058094454 land line claim 3030 valid 12hr sorri u unsubscrib yet mob offer packag min term 54 week pl resubmit request expiri repli themob help 4 info 1 new messag pleas call 08712400200 current messag await collect collect messag call 08718723815 urgent mobil award bonu caller prize final attempt 2 contact u call 08714714011 ever notic drive anyon go slower idiot everyon drive faster maniac xma offer latest motorola sonyericsson nokia free bluetooth dvd doubl min 1000 txt orang call mobileupd8 08000839402 repli win weekli profession sport tiger wood play send stop 87239 end servic 1 polyphon tone 4 ur mob everi week txt pt2 87575 1st tone free get txtin tell ur friend 16 repli hl 4info messag free welcom new improv sex dog club unsubscrib servic repli stop msg 150p 12mth half price orang line rental 400min call mobileupd8 08000839402 free unlimit hardcor porn direct 2 mobil txt porn 69200 get free access 24 hr chrgd 50p per day txt stop 2exit msg free unsubscrib servic get ton sexi babe hunk straight phone go http subscript hi babe jordan r u im home abroad lone text back u wan na chat xxsp text stop stopcost 150p 08712400603 get brand new mobil phone agent mob plu load goodi info text mat 87021 lord ring return king store repli lotr 2 june 4 chanc 2 win lotr soundtrack cd stdtxtrate repli stop end txt good luck draw take place 28th feb 06 good luck remov send stop 87239 custom servic 08708034412 1st wk free gr8 tone str8 2 u wk txt nokia 8007 classic nokia tone hit 8007 poli lookatm thank purchas video clip lookatm charg 35p think better send video mmsto 32323 sexi sexi cum text im wet warm readi porn u fun msg free recd msg 150p inc vat 2 cancel text stop 2nd time tri contact u prize claim call 09053750005 b4 310303 sm 08718725756 140ppm dear voucher holder claim week offer pc pleas go http ts cs appli 2nd time tri 2 contact u 750 pound prize 2 claim easi call 08712101358 10p per min ur award citi break could win summer shop spree everi wk txt store urgent tri contact today draw show prize guarante call 09066358361 land line claim y87 valid 12hr thank rington order refer number x29 mobil charg tone arriv pleas call custom servic 09065989180 ur current 500 pound maxim ur send collect 83600 cc 08718720201 po box congratul thank good friend u xma prize 2 claim easi call 08718726978 10p per minut 44 7732584351 want new nokia 3510i colour phone deliveredtomorrow 300 free minut mobil 100 free text free camcord repli call 08000930705 someon u know ask date servic 2 contact cant guess call 09058097189 reveal pobox 6 ls15hb 150p camera award sipix digit camera call 09061221066 fromm landlin deliveri within 28 day today voda number end 5226 select receiv 350 award hava match pleas call 08712300220 quot claim code 1131 standard rate app messag free welcom new improv sex dog club unsubscrib servic repli stop msg 150p 18 rct thnq adrian u text rgd vatian contact date servic someon know find call land line 09050000928 pobox45w2tg150p sorri miss call let talk time 07090201529 complimentari 4 star ibiza holiday cash need urgent collect 09066364349 landlin lose free msg bill mobil number mistak shortcod call 08081263000 charg call free bt landlin pleas call 08712402972 immedi urgent messag wait urgent mobil number award bonu caller prize call 09058095201 land line valid 12hr want new nokia 3510i colour phone deliveredtomorrow 300 free minut mobil 100 free text free camcord repli call 08000930705 life never much fun great came made truli special wo forget enjoy one want new video phone 600 anytim network min 400 inclus video call download 5 per week free deltomorrow call 08002888812 repli valu custom pleas advis follow recent review mob award bonu prize call 09066368470 welcom pleas repli age gender begin 24m freemsg unlimit free call activ smartcal txt call 68866 unlimit call help 08448714184 stop txt stop landlineonli mobil 10 mth updat latest orang phone free save free call text ye callback orno opt new 2 club dont fink met yet b gr8 2 c u pleas leav msg 2day wiv ur area 09099726553 repli promis carli x lkpobox177hp51fl camera award sipix digit camera call 09061221066 fromm landlin deliveri within 28 day get free mobil video player free movi collect text go 89105 free extra film order c appli 18 yr save money wed lingeri choos superb select nation deliveri brought weddingfriend heard u4 call night knicker make beg like u last time 01223585236 xx luv bloomberg center wait appli futur http want new video phone750 anytim network min 150 text five pound per week call 08000776320 repli deliveri tomorrow contact date servic someon know find call land line 09050000878 pobox45w2tg150p wan2 win westlif 4 u m8 current tour 1 unbreak 2 untam 3 unkempt text 3 83049 cost 50p text dorothi bank granit issu explos pick member 300 nasdaq symbol cdgt per winner guarante caller prize final attempt contact claim call 09071517866 150ppmpobox10183bhamb64x xma new year eve ticket sale club day 10am till 8pm thur fri sat night week sell fast rock yr chik get 100 filthi film xxx pic yr phone rpli filth 69669 saristar ltd e14 9yt 08701752560 450p per 5 day stop2 cancel next month get upto 50 call 4 ur standard network charg 2 activ call 9061100010 c 1st4term pobox84 m26 3uz cost min mobcudb urgent tri contact u today draw show prize guarante call 09050000460 land line claim j89 po box245c2150pm text banneduk 89555 see cost 150p textoper g696ga xxx auction round 4 highest bid next maximum bid bid send bid 10 bid 83383 good luck collect valentin weekend pari inc flight hotel prize guarante text pari custom loyalti offer new nokia6650 mobil txtauction txt word start 81151 get 4t ctxt tc wo believ true incred txt repli g learn truli amaz thing blow mind o2fwd hot n horni will live local text repli hear strt back 150p per msg netcollex ltdhelpdesk 02085076972 repli stop end want new nokia 3510i colour phone deliv tomorrow 200 free minut mobil 100 free text free camcord repli call 08000930705 congratul winner august prize draw call 09066660100 prize code 2309 8007 25p 4 alfi moon children need song ur mob tell ur m8 txt tone chariti 8007 nokia poli chariti poli zed 08701417012 profit 2 chariti get offici england poli rington colour flag yer mobil tonight game text tone flag 84199 optout txt eng stop box39822 w111wx custom servic announc recent tri make deliveri unabl pleas call 07090298926 stop club tone repli see html term club tone cost mfl wamma get laid want real doggin locat sent direct mobil join uk largest dog network txt dog 69696 nyt ec2a 3lp promot number 8714714 ur award citi break could win summer shop spree everi wk txt store 88039 skilgm tscs087147403231winawk age16 winner special select receiv cash award speak live oper claim call cost 10p thank rington order refer number x49 mobil charg tone arriv pleas call custom servic 09065989182 text txtstar hi 2night ur lucki night uve invit 2 xchat uk wildest chat txt chat 86688 ldn 18yr 146tf150p dear voucher holder 2 claim 1st class airport loung pass use holiday voucher call 08704439680 book quot 1st class x 2 someon u know ask date servic 2 contact cant guess call 09058095107 reveal pobox 7 s3xi 150p mila age23 blond new uk look sex uk guy u like fun text mtalk 1st 5free increment help08718728876 claim 200 shop spree call 08717895698 mobstorequiz10ppm want funk ur fone weekli new tone repli tones2u 2 text origin n best tone 3gbp network oper rate appli twink bear scalli skin jock call miss weekend fun call 08712466669 2 stop text call 08712460324 nat rate tri contact repli offer video handset 750 anytim network min unlimit text camcord repli call 08000930705 urgent tri contact last weekend draw show prize guarante call 09061701851 claim code k61 valid 12hour 74355 xma iscom ur award either cd gift voucher free entri 2 r weekli draw txt music 87066 tnc congratul u claim 2 vip row ticket 2 c blu concert novemb blu gift guarante call 09061104276 claim ts cs free msg singl find partner area 1000 real peopl wait chat send chat 62220cncl send stopc per msg win newest åòharri potter order phoenix book 5 repli harri answer 5 question chanc first among reader free msg rington http wml 37819 oh god found number glad text back xafter msg cst std ntwk chg link pictur sent also use http doubl min 1000 txt orang tariff latest motorola sonyericsson nokia bluetooth free call mobileupd8 08000839402 urgent 2nd attempt contact u prize yesterday still await collect claim call 09061702893 acl03530150pm dear dave final notic collect 4 tenerif holiday 5000 cash award call 09061743806 landlin tc sae box326 cw25wx 150ppm tell u 2 call 09066358152 claim prize u 2 enter ur mobil person detail prompt care 2004 account 07xxxxxxxxx show 786 unredeem point claim call 08719181259 identifi code xxxxx expir want new video handset 750 anytim network min half price line rental camcord repli call 08000930705 deliveri tomorrow free rington repli real poli eg real1 1 pushbutton 2 dontcha 3 babygoodby 4 golddigg 5 webeburnin 1st tone free 6 u join free msg get gnarl barkley rington total free repli go messag right refus loan secur unsecur ca get credit call free 0800 195 6669 text back special select receiv award call 08712402050 line close cost 10ppm cs appli ag promo valu vodafon custom comput pick win prize collect easi call 09061743386 free video camera phone half price line rental 12 mth 500 cross ntwk min 100 txt call mobileupd8 08001950382 ringtonek 84484 rington club gr8 new poli direct mobil everi week bank granit issu explos pick member 300 nasdaq symbol cdgt per bore housew chat n date rate landlin tri call repli sm video mobil 750 min unlimit text free camcord repli call 08000930705 del thur 2nd time tri contact u prize 2 claim easi call 087104711148 10p per minut receiv week tripl echo rington shortli enjoy u select stay 1 250 top british hotel noth holiday valu dial 08712300220 claim nation rate call bx526 sw73ss chosen receiv award pl call claim number 09066364311 collect award select receiv valu mobil custom win cash prize prize worth thank rington order refer number mobil charg tone arriv pleas call custom servic 09065989182 mobi pub high street prize u know new duchess cornwal txt first name stop 008704050406 sp week savamob member offer access call 08709501522 detail savamob pobox 139 la3 2wu savamob offer mobil contact date servic someon know find call mobil landlin 09064017305 pobox75ldns7 chase us sinc sept definit pay thank inform ignor kath manchest loan purpos even bad credit tenant welcom call 08717111821 87077 kick new season 2wk free goal news ur mobil txt ur club name 87077 eg villa 87077 orang bring rington time chart hero free hit week go rington pic wap stop receiv tip repli stop privat 2003 account statement 07973788240 show 800 point call 08715203649 identifi code 40533 expir tri call repli sm video mobil 750 min unlimit text free camcord repli call 08000930705 gsoh good spam ladi u could b male gigolo 2 join uk fastest grow men club repli oncal mjzgroup repli stop msg hot live fantasi call 08707500020 20p per min ntt ltd po box 1327 croydon cr9 5wb 0870 nation rate call urgent mobil number award ukp 2000 prize guarante call 09061790125 landlin claim 3030 valid 12hr 150ppm spjanuari male sale hot gay chat cheaper call 08709222922 nation rate cheap peak stop text call 08712460324 freemsg today day readi horni live town love sex fun game netcollex ltd 08700621170150p per msg repli stop end simpson movi releas juli 2007 name band die start film day day day send b c pleas call amanda regard renew upgrad current handset free charg offer end today tel 0845 021 3680 subject c want new video phone 750 anytim network min half price line rental free text 3 month repli call 08000930705 free deliveri dear voucher holder claim week offer pc pleas go http ts cs appli urgent pleas call 0906346330 abta complimentari 4 spanish holiday cash await collect sae cs box 47 po19 2ez 150ppm cmon babe make horni turn txt fantasi babe im hot sticki need repli cost 2 cancel send stop import inform 4 orang user 0796xxxxxx today ur lucki day 2 find log onto http fantast prizeawait miss call alert number call left messag 07008009200 freemsg record indic may entitl 3750 pound accid claim free repli ye msg opt text stop show ur colour euro 2004 offer get england flag 3lion tone ur phone click follow servic messag info text pass 69669 collect polyphon rington normal gpr charg appli enjoy tone accordingli repeat text word ok mobil phone send block breaker come delux format new featur great graphic buy repli get bbdelux take challeng import inform 4 orang user today lucki day 2find log onto http fantast surpris await natalja invit friend repli see stop send stop frnd 62468 urgent import inform 02 user today lucki day 2 find log onto http fantast surpris await kit strip bill 150p netcollex po box 1013 ig11 oja pleas call 08712402578 immedi urgent messag wait let send free anonym mask messag im send messag see potenti abus congrat 2 mobil 3g videophon r call 09061744553 videochat wid ur mate play java game dload polyh music nolin rentl bx420 ip4 5we 150pm import inform 4 orang user 0789xxxxxxx today lucki day 2find log onto http fantast surpris await date servic ask 2 contact u someon shi call 09058091870 reveal pobox84 m26 3uz 150p want new video handset 750 time network min unlimit text camcord repli call 08000930705 del sat ur balanc next question complet landmark big bob barri ben text b c 83738 good luck ur tonex subscript renew charg choos 10 poli month bill msg prize go anoth custom c polo ltd suit 373 london w1j 6hl pleas call back busi want new nokia 3510i colour phone deliv tomorrow 200 free minut mobil 100 free text free camcord repli call 8000930705 recpt order rington order process one regist subscrib u enter draw 4 100 gift voucher repli enter unsubscrib text stop chanc win free bluetooth headset simpli repli back b floppi b snappi happi gay chat servic photo upload call 08718730666 2 stop text call 08712460324 welcom msg free give free call 08719839835 futur mg bill 150p daili cancel send 89123 3 receiv mobil content enjoy want explicit sex 30 sec ring 02073162414 cost latest nokia mobil ipod mp3 player proze guarante repli win 83355 norcorp sm servic inclus text credit pl goto 3qxj9 unsubscrib stop extra charg help 9ae mobil club choos top qualiti item mobil 7cfca1a money wine number 946 wot next want cock hubbi away need real man 2 satisfi txt wife 89938 string action txt stop 2 end txt rec otbox 731 la1 7w gr8 new servic live sex video chat mob see sexiest dirtiest girl live ur phone 4 detail text horni 89070 cancel send stop 89070 freemsg hi babi wow got new cam mobi wan na c hot pic fanci chat im w8in 4utxt rpli chat 82242 hlp 08712317606 msg150p 2rcv wan na laugh tri mobil logon txting word chat send 8883 cm po box 4217 london w1a 6zf rcvd 2nd attempt contact u u 09071512432 b4 300603t congratul ur award 500 cd voucher 125gift guarante free entri 2 100 wkli draw txt music 87066 contract mobil 11 mnth latest motorola nokia etc free doubl min text orang tariff text ye callback remov record urgent call 09066350750 landlin complimentari 4 ibiza holiday cash await collect sae cs po box 434 sk3 8wp 150 ppm u secret admir look 2 make contact r reveal think ur freemsg txt call 86888 claim reward 3 hour talk time use phone inc 3hr 16 stop txtstop sunshin quiz win super soni dvd record cannam capit australia text mquiz 82277 b today voda number end 7634 select receiv reward match pleas call 08712300220 quot claim code 7684 standard rate appli rip get mobil content call 08717509990 six download 3 tri contact repli offer video phone 750 anytim network min half price line rental camcord repli call 08000930705 xma reward wait comput randomli pick loyal mobil custom receiv reward call 09066380611 privat 2003 account statement show 800 point call 08718738002 identifi code 48922 expir custom servic announc recent tri make deliveri unabl pleas call 07099833605 hi babe chloe r u smash saturday night great weekend u miss sp text stop stop urgent mobil 07808726822 award bonu caller prize 2nd attempt contact call box95qu free game get rayman golf 4 free o2 game arcad 1st get ur game set repli post save activ8 press 0 key arcad termsappli mobil 10 mth updat latest phone free keep ur number get extra free text ye call weekli tone readi download week new tone includ 1 crazi f 2 3 black p info n get lot cash weekend dear welcom weekend got biggest best ever cash give away thank 4 continu support question week enter u in2 draw 4 cash name new us presid txt an 80082 uniqu user id 1172 remov send stop 87239 custom servic 08708034412 urgent 09066649731from landlin complimentari 4 ibiza holiday cash await collect sae cs po box 434 sk3 8wp 150ppm urgent 2nd attempt contact u prize yesterday still await collect claim call 09061702893 santa call would littl one like call santa xma eve call 09077818151 book time last 3min 30 c privat 2004 account statement 078498 7 show 786 unredeem bonu point claim call 08719180219 identifi code 45239 expir check choos babe video fgkslpopw fgkslpo u r winner u ave special select 2 receiv cash 4 holiday flight inc speak live oper 2 claim 18 new mobil 2004 must go txt nokia 89545 collect today 2optout txtauction privat 2003 account statement show 800 point call 08715203652 identifi code 42810 expir valu vodafon custom comput pick win prize collect easi call 09061743386 free messag thank use auction subscript servic 18 2 skip auction txt 2 unsubscrib txt stop customercar 08718726270 lyricalladi invit friend repli see stop send stop frnd 62468 want latest video handset 750 anytim network min half price line rental repli call 08000930705 deliveri tomorrow ou guarante latest nokia phone 40gb ipod mp3 player prize txt word collect 83355 ibhltd ldnw15h free polyphon rington text super 87131 get free poli tone week 16 sn pobox202 nr31 7z subscript 450pw warner villag 83118 c colin farrel swat wkend warner villag get 1 free med popcorn show c c kiosk repli soni 4 mre film offer goal arsen 4 henri 7 v liverpool 2 henri score simpl shot 6 yard pass bergkamp give arsen 2 goal margin 78 min hi sexychat girl wait text text great night chat send stop stop servic hi ami send free phone number coupl day give access adult parti welcom select o2 servic ad benefit call special train advisor free mobil diall 402 dear voucher holder next meal us use follow link pc 2 enjoy 2 4 1 dine experiencehttp urgent tri contact today draw show prize guarante call 09058094507 land line claim 3030 valid 12hr donat unicef asian tsunami disast support fund text donat ad next bill goldvik invit friend repli see stop send stop frnd 62468 phoni award today voda number end xxxx select receiv award match pleas call 08712300220 quot claim code 3100 standard rate app cd 4u congratul ur award cd gift voucher gift guarante freeentri 2 wkli draw xt music 87066 tnc guarante cash prize claim yr prize call custom servic repres 08714712412 cost 10p dear 0776xxxxxxx u invit xchat final attempt contact u txt chat 86688 ldn 18yr ur current 500 pound maxim ur send go 86688 cc 08718720201 privat 2003 account statement show 800 point call 08715203685 identifi expir like tell deepest darkest fantasi call 09094646631 stop text call 08712460324 nat rate natali invit friend repli see stop send stop frnd 62468 jamster get free wallpap text heart 88888 c appli 16 need help call 08701213186 free video camera phone half price line rental 12 mth 500 cross ntwk min 100 txt call mobileupd8 08001950382 83039 uk break accommodationvouch term condit appli 2 claim mustprovid claim number 15541 5p 4 alfi moon children need song ur mob tell ur m8 txt tone chariti 8007 nokia poli chariti poli zed 08701417012 profit 2 chariti win shop spree everi week start 2 play text store 88039 skilgm tscs08714740323 1winawk age16 2nd attempt contract u week top prize either cash prize call 09066361921 want new nokia 3510i colour phone deliveredtomorrow 300 free minut mobil 100 free text free camcord repli call 08000930705 themob hit link get premium pink panther game new 1 sugabab crazi zebra anim badass hoodi 4 free msg mobil content order resent previou attempt fail due network error queri customersqueri 1 new messag pleas call 08715205273 decemb mobil entitl updat latest colour camera mobil free call mobil updat vco free 08002986906 get 3 lion england tone repli lionm 4 mono lionp 4 poli 4 go 2 origin n best tone 3gbp network oper rate appli privat 2003 account statement 078 4 costa del sol holiday await collect call 09050090044 toclaim sae tc pobox334 stockport sk38xh max10min get garden readi summer free select summer bulb seed worth scotsman saturday stop go2 sm auction brand new nokia 7250 4 auction today auction free 2 join take part txt nokia 86021 ree entri 2 weekli comp chanc win ipod txt pod 80182 get entri std txt rate c appli 08452810073 detail record indic u mayb entitl 5000 pound compens accid claim 4 free repli claim msg 2 stop txt stop spook mob halloween collect logo pic messag plu free eeri tone txt card spook 8007 zed 08701417012150p per call germani 1 penc per minut call fix line via access number 0844 861 85 85 prepay direct access mobil 11mth updat free orang latest colour camera mobil unlimit weekend call call mobil upd8 freefon 08000839402 2stoptxt privat 2003 account statement fone show 800 point call 08715203656 identifi code 42049 expir someonon know tri contact via date servic find could call mobil landlin 09064015307 box334sk38ch urgent pleas call 09061213237 landlin cash 4 holiday await collect cs sae po box 177 m227xi prize go anoth custom c polo ltd suit 373 london w1j 6hl pleas call back busi urgent mobil number award prize guarante call 09061790126 land line claim 3030 valid 12hr 150ppm urgent pleas call 09061213237 landlin cash luxuri 4 canari island holiday await collect cs sae po box 177 m227xi 150ppm xma iscom ur award either cd gift voucher free entri 2 r weekli draw txt music 87066 tnc u r subscrib 2 textcomp 250 wkli comp 1st wk free question follow subsequ wk charg unsubscrib txt stop 2 84128 custcar 08712405020 call 09095350301 send girl erot ecstaci stop text call 08712460324 nat rate xma reward wait comput randomli pick loyal mobil custom receiv reward call 09066380611 import messag final contact attempt import messag wait custom claim dept expir call 08717507382 date two start sent text talk sport radio last week connect think coincid current lead bid 151 paus auction send custom care 08718726270 free entri gr8prize wkli comp 4 chanc win latest nokia 8800 psp cash everi great 80878 08715705022 1 new messag call santa call would littl one like call santa xma eve call 09058094583 book time guarante 32000 award mayb even cash claim ur award call free 0800 legitimat efreefon number wat u think latest news polic station toilet stolen cop noth go sparkl shop break 45 per person call 0121 2025050 visit txt call 86888 claim reward 3 hour talk time use phone inc 3hr 16 stop txtstop wml c ringtoneåá urgent last weekend draw show cash spanish holiday call 09050000332 claim c rstm sw7 3ss 150ppm urgent tri contact last weekend draw show u prize guarante call 09064017295 claim code k52 valid 12hr 150p pm 2p per min call germani 08448350055 bt line 2p per min check info c text stop opt marvel mobil play offici ultim game ur mobil right text spider 83338 game send u free 8ball wallpap privat 2003 account statement 07808247860 show 800 point call 08719899229 identifi code 40411 expir privat 2003 account statement show 800 point call 08718738001 identifi code 49557 expir want explicit sex 30 sec ring 02073162414 cost gsex pobox 2667 wc1n 3xx ask 3mobil 0870 chatlin inclu free min india cust serv sed ye l8er got mega bill 3 dont giv shit bailiff due day 3 want contract mobil 11 mnth latest motorola nokia etc free doubl min text orang tariff text ye callback remov record remind o2 get pound free call credit detail great offer pl repli 2 text valid name hous postcod 2nd time tri 2 contact u pound prize 2 claim easi call 087187272008 now1 10p per minut'"
            ],
            "application/vnd.google.colaboratory.intrinsic+json": {
              "type": "string"
            }
          },
          "metadata": {},
          "execution_count": 22
        }
      ]
    },
    {
      "cell_type": "code",
      "source": [
        "ham = ham.split(' ')\n",
        "spam = spam.split(' ')\n",
        "spam"
      ],
      "metadata": {
        "colab": {
          "base_uri": "https://localhost:8080/"
        },
        "id": "_e9Gc7PZfSvg",
        "outputId": "7b74e99f-52bb-4952-93e9-e8ae0c4f7483"
      },
      "execution_count": 23,
      "outputs": [
        {
          "output_type": "execute_result",
          "data": {
            "text/plain": [
              "['free',\n",
              " 'entri',\n",
              " '2',\n",
              " 'wkli',\n",
              " 'comp',\n",
              " 'win',\n",
              " 'fa',\n",
              " 'cup',\n",
              " 'final',\n",
              " 'tkt',\n",
              " '21st',\n",
              " 'may',\n",
              " '2005',\n",
              " 'text',\n",
              " 'fa',\n",
              " '87121',\n",
              " 'receiv',\n",
              " 'entri',\n",
              " 'question',\n",
              " 'std',\n",
              " 'txt',\n",
              " 'rate',\n",
              " 'c',\n",
              " 'appli',\n",
              " '08452810075over18',\n",
              " 'freemsg',\n",
              " 'hey',\n",
              " 'darl',\n",
              " '3',\n",
              " 'week',\n",
              " 'word',\n",
              " 'back',\n",
              " 'like',\n",
              " 'fun',\n",
              " 'still',\n",
              " 'tb',\n",
              " 'ok',\n",
              " 'xxx',\n",
              " 'std',\n",
              " 'chg',\n",
              " 'send',\n",
              " 'rcv',\n",
              " 'winner',\n",
              " 'valu',\n",
              " 'network',\n",
              " 'custom',\n",
              " 'select',\n",
              " 'receivea',\n",
              " 'prize',\n",
              " 'reward',\n",
              " 'claim',\n",
              " 'call',\n",
              " '09061701461',\n",
              " 'claim',\n",
              " 'code',\n",
              " 'kl341',\n",
              " 'valid',\n",
              " '12',\n",
              " 'hour',\n",
              " 'mobil',\n",
              " '11',\n",
              " 'month',\n",
              " 'u',\n",
              " 'r',\n",
              " 'entitl',\n",
              " 'updat',\n",
              " 'latest',\n",
              " 'colour',\n",
              " 'mobil',\n",
              " 'camera',\n",
              " 'free',\n",
              " 'call',\n",
              " 'mobil',\n",
              " 'updat',\n",
              " 'co',\n",
              " 'free',\n",
              " '08002986030',\n",
              " 'six',\n",
              " 'chanc',\n",
              " 'win',\n",
              " 'cash',\n",
              " '100',\n",
              " 'pound',\n",
              " 'txt',\n",
              " 'csh11',\n",
              " 'send',\n",
              " '87575',\n",
              " 'cost',\n",
              " '6day',\n",
              " 'tsandc',\n",
              " 'appli',\n",
              " 'repli',\n",
              " 'hl',\n",
              " '4',\n",
              " 'info',\n",
              " 'urgent',\n",
              " '1',\n",
              " 'week',\n",
              " 'free',\n",
              " 'membership',\n",
              " 'prize',\n",
              " 'jackpot',\n",
              " 'txt',\n",
              " 'word',\n",
              " 'claim',\n",
              " '81010',\n",
              " 'c',\n",
              " 'lccltd',\n",
              " 'pobox',\n",
              " '4403ldnw1a7rw18',\n",
              " 'xxxmobilemovieclub',\n",
              " 'use',\n",
              " 'credit',\n",
              " 'click',\n",
              " 'wap',\n",
              " 'link',\n",
              " 'next',\n",
              " 'txt',\n",
              " 'messag',\n",
              " 'click',\n",
              " 'http',\n",
              " 'england',\n",
              " 'v',\n",
              " 'macedonia',\n",
              " 'dont',\n",
              " 'miss',\n",
              " 'news',\n",
              " 'txt',\n",
              " 'ur',\n",
              " 'nation',\n",
              " 'team',\n",
              " '87077',\n",
              " 'eg',\n",
              " 'england',\n",
              " '87077',\n",
              " 'tri',\n",
              " 'wale',\n",
              " 'scotland',\n",
              " 'poboxox36504w45wq',\n",
              " 'thank',\n",
              " 'subscript',\n",
              " 'rington',\n",
              " 'uk',\n",
              " 'mobil',\n",
              " 'charg',\n",
              " 'pleas',\n",
              " 'confirm',\n",
              " 'repli',\n",
              " 'ye',\n",
              " 'repli',\n",
              " 'charg',\n",
              " '07732584351',\n",
              " 'rodger',\n",
              " 'burn',\n",
              " 'msg',\n",
              " 'tri',\n",
              " 'call',\n",
              " 'repli',\n",
              " 'sm',\n",
              " 'free',\n",
              " 'nokia',\n",
              " 'mobil',\n",
              " 'free',\n",
              " 'camcord',\n",
              " 'pleas',\n",
              " 'call',\n",
              " '08000930705',\n",
              " 'deliveri',\n",
              " 'tomorrow',\n",
              " 'sm',\n",
              " 'ac',\n",
              " 'sptv',\n",
              " 'new',\n",
              " 'jersey',\n",
              " 'devil',\n",
              " 'detroit',\n",
              " 'red',\n",
              " 'wing',\n",
              " 'play',\n",
              " 'ice',\n",
              " 'hockey',\n",
              " 'correct',\n",
              " 'incorrect',\n",
              " 'end',\n",
              " 'repli',\n",
              " 'end',\n",
              " 'sptv',\n",
              " 'congrat',\n",
              " '1',\n",
              " 'year',\n",
              " 'special',\n",
              " 'cinema',\n",
              " 'pass',\n",
              " '2',\n",
              " 'call',\n",
              " '09061209465',\n",
              " 'c',\n",
              " 'suprman',\n",
              " 'v',\n",
              " 'matrix3',\n",
              " 'starwars3',\n",
              " 'etc',\n",
              " '4',\n",
              " 'free',\n",
              " '150pm',\n",
              " 'dont',\n",
              " 'miss',\n",
              " 'valu',\n",
              " 'custom',\n",
              " 'pleas',\n",
              " 'advis',\n",
              " 'follow',\n",
              " 'recent',\n",
              " 'review',\n",
              " 'mob',\n",
              " 'award',\n",
              " 'bonu',\n",
              " 'prize',\n",
              " 'call',\n",
              " '09066364589',\n",
              " 'urgent',\n",
              " 'ur',\n",
              " 'award',\n",
              " 'complimentari',\n",
              " 'trip',\n",
              " 'eurodisinc',\n",
              " 'trav',\n",
              " 'aco',\n",
              " 'entry41',\n",
              " 'claim',\n",
              " 'txt',\n",
              " 'di',\n",
              " '87121',\n",
              " 'morefrmmob',\n",
              " 'shracomorsglsuplt',\n",
              " '10',\n",
              " 'ls1',\n",
              " '3aj',\n",
              " 'hear',\n",
              " 'new',\n",
              " 'come',\n",
              " 'ken',\n",
              " 'stuff',\n",
              " 'pleas',\n",
              " 'call',\n",
              " 'custom',\n",
              " 'servic',\n",
              " 'repres',\n",
              " '0800',\n",
              " '169',\n",
              " '6031',\n",
              " 'guarante',\n",
              " 'cash',\n",
              " 'prize',\n",
              " 'free',\n",
              " 'rington',\n",
              " 'wait',\n",
              " 'collect',\n",
              " 'simpli',\n",
              " 'text',\n",
              " 'password',\n",
              " '85069',\n",
              " 'verifi',\n",
              " 'get',\n",
              " 'usher',\n",
              " 'britney',\n",
              " 'fml',\n",
              " 'gent',\n",
              " 'tri',\n",
              " 'contact',\n",
              " 'last',\n",
              " 'weekend',\n",
              " 'draw',\n",
              " 'show',\n",
              " 'prize',\n",
              " 'guarante',\n",
              " 'call',\n",
              " '09064012160',\n",
              " 'claim',\n",
              " 'code',\n",
              " 'k52',\n",
              " 'valid',\n",
              " '12hr',\n",
              " '150ppm',\n",
              " 'winner',\n",
              " 'u',\n",
              " 'special',\n",
              " 'select',\n",
              " '2',\n",
              " 'receiv',\n",
              " '4',\n",
              " 'holiday',\n",
              " 'flight',\n",
              " 'inc',\n",
              " 'speak',\n",
              " 'live',\n",
              " 'oper',\n",
              " '2',\n",
              " 'claim',\n",
              " 'privat',\n",
              " '2004',\n",
              " 'account',\n",
              " 'statement',\n",
              " '07742676969',\n",
              " 'show',\n",
              " '786',\n",
              " 'unredeem',\n",
              " 'bonu',\n",
              " 'point',\n",
              " 'claim',\n",
              " 'call',\n",
              " '08719180248',\n",
              " 'identifi',\n",
              " 'code',\n",
              " '45239',\n",
              " 'expir',\n",
              " 'urgent',\n",
              " 'mobil',\n",
              " 'award',\n",
              " 'bonu',\n",
              " 'caller',\n",
              " 'prize',\n",
              " 'final',\n",
              " 'tri',\n",
              " 'contact',\n",
              " 'u',\n",
              " 'call',\n",
              " 'landlin',\n",
              " '09064019788',\n",
              " 'box42wr29c',\n",
              " '150ppm',\n",
              " 'today',\n",
              " 'voda',\n",
              " 'number',\n",
              " 'end',\n",
              " '7548',\n",
              " 'select',\n",
              " 'receiv',\n",
              " '350',\n",
              " 'award',\n",
              " 'match',\n",
              " 'pleas',\n",
              " 'call',\n",
              " '08712300220',\n",
              " 'quot',\n",
              " 'claim',\n",
              " 'code',\n",
              " '4041',\n",
              " 'standard',\n",
              " 'rate',\n",
              " 'app',\n",
              " 'sunshin',\n",
              " 'quiz',\n",
              " 'wkli',\n",
              " 'q',\n",
              " 'win',\n",
              " 'top',\n",
              " 'soni',\n",
              " 'dvd',\n",
              " 'player',\n",
              " 'u',\n",
              " 'know',\n",
              " 'countri',\n",
              " 'algarv',\n",
              " 'txt',\n",
              " 'ansr',\n",
              " 'sp',\n",
              " 'tyron',\n",
              " 'want',\n",
              " '2',\n",
              " 'get',\n",
              " 'laid',\n",
              " 'tonight',\n",
              " 'want',\n",
              " 'real',\n",
              " 'dog',\n",
              " 'locat',\n",
              " 'sent',\n",
              " 'direct',\n",
              " '2',\n",
              " 'ur',\n",
              " 'mob',\n",
              " 'join',\n",
              " 'uk',\n",
              " 'largest',\n",
              " 'dog',\n",
              " 'network',\n",
              " 'bt',\n",
              " 'txting',\n",
              " 'gravel',\n",
              " '69888',\n",
              " 'nt',\n",
              " 'ec2a',\n",
              " '150p',\n",
              " 'rcv',\n",
              " 'msg',\n",
              " 'chat',\n",
              " 'svc',\n",
              " 'free',\n",
              " 'hardcor',\n",
              " 'servic',\n",
              " 'text',\n",
              " 'go',\n",
              " '69988',\n",
              " 'u',\n",
              " 'get',\n",
              " 'noth',\n",
              " 'u',\n",
              " 'must',\n",
              " 'age',\n",
              " 'verifi',\n",
              " 'yr',\n",
              " 'network',\n",
              " 'tri',\n",
              " 'freemsg',\n",
              " 'repli',\n",
              " 'text',\n",
              " 'randi',\n",
              " 'sexi',\n",
              " 'femal',\n",
              " 'live',\n",
              " 'local',\n",
              " 'luv',\n",
              " 'hear',\n",
              " 'netcollex',\n",
              " 'ltd',\n",
              " '08700621170150p',\n",
              " 'per',\n",
              " 'msg',\n",
              " 'repli',\n",
              " 'stop',\n",
              " 'end',\n",
              " 'custom',\n",
              " 'servic',\n",
              " 'annonc',\n",
              " 'new',\n",
              " 'year',\n",
              " 'deliveri',\n",
              " 'wait',\n",
              " 'pleas',\n",
              " 'call',\n",
              " '07046744435',\n",
              " 'arrang',\n",
              " 'deliveri',\n",
              " 'winner',\n",
              " 'u',\n",
              " 'special',\n",
              " 'select',\n",
              " '2',\n",
              " 'receiv',\n",
              " 'cash',\n",
              " '4',\n",
              " 'holiday',\n",
              " 'flight',\n",
              " 'inc',\n",
              " 'speak',\n",
              " 'live',\n",
              " 'oper',\n",
              " '2',\n",
              " 'claim',\n",
              " '0871277810810',\n",
              " 'stop',\n",
              " 'bootydeli',\n",
              " 'invit',\n",
              " 'friend',\n",
              " 'repli',\n",
              " 'see',\n",
              " 'stop',\n",
              " 'send',\n",
              " 'stop',\n",
              " 'frnd',\n",
              " '62468',\n",
              " 'bangbab',\n",
              " 'ur',\n",
              " 'order',\n",
              " 'way',\n",
              " 'u',\n",
              " 'receiv',\n",
              " 'servic',\n",
              " 'msg',\n",
              " '2',\n",
              " 'download',\n",
              " 'ur',\n",
              " 'content',\n",
              " 'u',\n",
              " 'goto',\n",
              " 'wap',\n",
              " 'bangb',\n",
              " 'tv',\n",
              " 'ur',\n",
              " 'mobil',\n",
              " 'menu',\n",
              " 'urgent',\n",
              " 'tri',\n",
              " 'contact',\n",
              " 'last',\n",
              " 'weekend',\n",
              " 'draw',\n",
              " 'show',\n",
              " 'prize',\n",
              " 'guarante',\n",
              " 'call',\n",
              " '09061701939',\n",
              " 'claim',\n",
              " 'code',\n",
              " 's89',\n",
              " 'valid',\n",
              " '12hr',\n",
              " 'pleas',\n",
              " 'call',\n",
              " 'custom',\n",
              " 'servic',\n",
              " 'repres',\n",
              " 'freephon',\n",
              " '0808',\n",
              " '145',\n",
              " '4742',\n",
              " 'guarante',\n",
              " 'cash',\n",
              " 'prize',\n",
              " 'uniqu',\n",
              " 'enough',\n",
              " 'find',\n",
              " '30th',\n",
              " 'august',\n",
              " '500',\n",
              " 'new',\n",
              " 'mobil',\n",
              " '2004',\n",
              " 'must',\n",
              " 'go',\n",
              " 'txt',\n",
              " 'nokia',\n",
              " '89545',\n",
              " 'collect',\n",
              " 'today',\n",
              " '2optout',\n",
              " 'u',\n",
              " 'meet',\n",
              " 'ur',\n",
              " 'dream',\n",
              " 'partner',\n",
              " 'soon',\n",
              " 'ur',\n",
              " 'career',\n",
              " '2',\n",
              " 'flyng',\n",
              " 'start',\n",
              " '2',\n",
              " 'find',\n",
              " 'free',\n",
              " 'txt',\n",
              " 'horo',\n",
              " 'follow',\n",
              " 'ur',\n",
              " 'star',\n",
              " 'sign',\n",
              " 'horo',\n",
              " 'ari',\n",
              " 'text',\n",
              " 'meet',\n",
              " 'someon',\n",
              " 'sexi',\n",
              " 'today',\n",
              " 'u',\n",
              " 'find',\n",
              " 'date',\n",
              " 'even',\n",
              " 'flirt',\n",
              " 'u',\n",
              " 'join',\n",
              " '4',\n",
              " '10p',\n",
              " 'repli',\n",
              " 'name',\n",
              " 'age',\n",
              " 'eg',\n",
              " 'sam',\n",
              " '25',\n",
              " '18',\n",
              " 'recd',\n",
              " 'thirtyeight',\n",
              " 'penc',\n",
              " 'u',\n",
              " '447801259231',\n",
              " 'secret',\n",
              " 'admir',\n",
              " 'look',\n",
              " '2',\n",
              " 'make',\n",
              " 'contact',\n",
              " 'r',\n",
              " 'reveal',\n",
              " 'think',\n",
              " 'ur',\n",
              " '09058094597',\n",
              " 'congratul',\n",
              " 'ur',\n",
              " 'award',\n",
              " '500',\n",
              " 'cd',\n",
              " 'voucher',\n",
              " '125gift',\n",
              " 'guarante',\n",
              " 'free',\n",
              " 'entri',\n",
              " '2',\n",
              " '100',\n",
              " 'wkli',\n",
              " 'draw',\n",
              " 'txt',\n",
              " 'music',\n",
              " '87066',\n",
              " 'tnc',\n",
              " 'tri',\n",
              " 'contact',\n",
              " 'repli',\n",
              " 'offer',\n",
              " 'video',\n",
              " 'handset',\n",
              " '750',\n",
              " 'anytim',\n",
              " 'network',\n",
              " 'min',\n",
              " 'unlimit',\n",
              " 'text',\n",
              " 'camcord',\n",
              " 'repli',\n",
              " 'call',\n",
              " '08000930705',\n",
              " 'hey',\n",
              " 'realli',\n",
              " 'horni',\n",
              " 'want',\n",
              " 'chat',\n",
              " 'see',\n",
              " 'nake',\n",
              " 'text',\n",
              " 'hot',\n",
              " '69698',\n",
              " 'text',\n",
              " 'charg',\n",
              " '150pm',\n",
              " 'unsubscrib',\n",
              " 'text',\n",
              " 'stop',\n",
              " '69698',\n",
              " 'ur',\n",
              " 'rington',\n",
              " 'servic',\n",
              " 'chang',\n",
              " '25',\n",
              " 'free',\n",
              " 'credit',\n",
              " 'go',\n",
              " 'choos',\n",
              " 'content',\n",
              " 'stop',\n",
              " 'txt',\n",
              " 'club',\n",
              " 'stop',\n",
              " '87070',\n",
              " 'club4',\n",
              " 'po',\n",
              " 'box1146',\n",
              " 'mk45',\n",
              " '2wt',\n",
              " 'rington',\n",
              " 'club',\n",
              " 'get',\n",
              " 'uk',\n",
              " 'singl',\n",
              " 'chart',\n",
              " 'mobil',\n",
              " 'week',\n",
              " 'choos',\n",
              " 'top',\n",
              " 'qualiti',\n",
              " 'rington',\n",
              " 'messag',\n",
              " 'free',\n",
              " 'charg',\n",
              " 'hmv',\n",
              " 'bonu',\n",
              " 'special',\n",
              " '500',\n",
              " 'pound',\n",
              " 'genuin',\n",
              " 'hmv',\n",
              " 'voucher',\n",
              " 'answer',\n",
              " '4',\n",
              " 'easi',\n",
              " 'question',\n",
              " 'play',\n",
              " 'send',\n",
              " 'hmv',\n",
              " '86688',\n",
              " 'info',\n",
              " 'custom',\n",
              " 'may',\n",
              " 'claim',\n",
              " 'free',\n",
              " 'camera',\n",
              " 'phone',\n",
              " 'upgrad',\n",
              " 'pay',\n",
              " 'go',\n",
              " 'sim',\n",
              " 'card',\n",
              " 'loyalti',\n",
              " 'call',\n",
              " '0845',\n",
              " '021',\n",
              " 'end',\n",
              " 'c',\n",
              " 'appli',\n",
              " 'sm',\n",
              " 'ac',\n",
              " 'blind',\n",
              " 'date',\n",
              " '4u',\n",
              " 'rodds1',\n",
              " 'aberdeen',\n",
              " 'unit',\n",
              " 'kingdom',\n",
              " 'check',\n",
              " 'http',\n",
              " 'sm',\n",
              " 'blind',\n",
              " 'date',\n",
              " 'send',\n",
              " 'hide',\n",
              " 'themob',\n",
              " 'check',\n",
              " 'newest',\n",
              " 'select',\n",
              " 'content',\n",
              " 'game',\n",
              " 'tone',\n",
              " 'gossip',\n",
              " 'babe',\n",
              " 'sport',\n",
              " 'keep',\n",
              " 'mobil',\n",
              " 'fit',\n",
              " 'funki',\n",
              " 'text',\n",
              " 'wap',\n",
              " '82468',\n",
              " 'think',\n",
              " 'ur',\n",
              " 'smart',\n",
              " 'win',\n",
              " 'week',\n",
              " 'weekli',\n",
              " 'quiz',\n",
              " 'text',\n",
              " 'play',\n",
              " '85222',\n",
              " 'cs',\n",
              " 'winnersclub',\n",
              " 'po',\n",
              " 'box',\n",
              " '84',\n",
              " 'm26',\n",
              " '3uz',\n",
              " 'decemb',\n",
              " 'mobil',\n",
              " 'entitl',\n",
              " 'updat',\n",
              " 'latest',\n",
              " 'colour',\n",
              " 'camera',\n",
              " 'mobil',\n",
              " 'free',\n",
              " 'call',\n",
              " 'mobil',\n",
              " 'updat',\n",
              " 'co',\n",
              " 'free',\n",
              " '08002986906',\n",
              " 'call',\n",
              " 'germani',\n",
              " '1',\n",
              " 'penc',\n",
              " 'per',\n",
              " 'minut',\n",
              " 'call',\n",
              " 'fix',\n",
              " 'line',\n",
              " 'via',\n",
              " 'access',\n",
              " 'number',\n",
              " '0844',\n",
              " '861',\n",
              " '85',\n",
              " '85',\n",
              " 'prepay',\n",
              " 'direct',\n",
              " 'access',\n",
              " 'valentin',\n",
              " 'day',\n",
              " 'special',\n",
              " 'win',\n",
              " 'quiz',\n",
              " 'take',\n",
              " 'partner',\n",
              " 'trip',\n",
              " 'lifetim',\n",
              " 'send',\n",
              " 'go',\n",
              " '83600',\n",
              " 'rcvd',\n",
              " 'fanci',\n",
              " 'shag',\n",
              " 'txt',\n",
              " 'xxuk',\n",
              " 'suzi',\n",
              " '69876',\n",
              " 'txt',\n",
              " 'cost',\n",
              " 'per',\n",
              " 'msg',\n",
              " 'tnc',\n",
              " 'websit',\n",
              " 'x',\n",
              " 'ur',\n",
              " 'current',\n",
              " '500',\n",
              " 'pound',\n",
              " 'maxim',\n",
              " 'ur',\n",
              " 'send',\n",
              " 'cash',\n",
              " '86688',\n",
              " 'cc',\n",
              " '08708800282',\n",
              " 'xma',\n",
              " 'offer',\n",
              " 'latest',\n",
              " 'motorola',\n",
              " 'sonyericsson',\n",
              " 'nokia',\n",
              " 'free',\n",
              " 'bluetooth',\n",
              " 'doubl',\n",
              " 'min',\n",
              " '1000',\n",
              " 'txt',\n",
              " 'orang',\n",
              " 'call',\n",
              " 'mobileupd8',\n",
              " '08000839402',\n",
              " 'discount',\n",
              " 'code',\n",
              " 'rp176781',\n",
              " 'stop',\n",
              " 'messag',\n",
              " 'repli',\n",
              " 'stop',\n",
              " 'custom',\n",
              " 'servic',\n",
              " '08717205546',\n",
              " 'thank',\n",
              " 'rington',\n",
              " 'order',\n",
              " 'refer',\n",
              " 't91',\n",
              " 'charg',\n",
              " 'gbp',\n",
              " '4',\n",
              " 'per',\n",
              " 'week',\n",
              " 'unsubscrib',\n",
              " 'anytim',\n",
              " 'call',\n",
              " 'custom',\n",
              " 'servic',\n",
              " '09057039994',\n",
              " 'doubl',\n",
              " 'min',\n",
              " 'txt',\n",
              " '4',\n",
              " '6month',\n",
              " 'free',\n",
              " 'bluetooth',\n",
              " 'orang',\n",
              " 'avail',\n",
              " 'soni',\n",
              " 'nokia',\n",
              " 'motorola',\n",
              " 'phone',\n",
              " 'call',\n",
              " 'mobileupd8',\n",
              " '08000839402',\n",
              " '4mth',\n",
              " 'half',\n",
              " 'price',\n",
              " 'orang',\n",
              " 'line',\n",
              " 'rental',\n",
              " 'latest',\n",
              " 'camera',\n",
              " 'phone',\n",
              " '4',\n",
              " 'free',\n",
              " 'phone',\n",
              " '11mth',\n",
              " 'call',\n",
              " 'mobilesdirect',\n",
              " 'free',\n",
              " '08000938767',\n",
              " 'updat',\n",
              " 'or2stoptxt',\n",
              " 'free',\n",
              " 'rington',\n",
              " 'text',\n",
              " 'first',\n",
              " '87131',\n",
              " 'poli',\n",
              " 'text',\n",
              " 'get',\n",
              " '87131',\n",
              " 'true',\n",
              " 'tone',\n",
              " 'help',\n",
              " '0845',\n",
              " '2814032',\n",
              " '16',\n",
              " '1st',\n",
              " 'free',\n",
              " 'tone',\n",
              " 'txt',\n",
              " 'stop',\n",
              " '100',\n",
              " 'date',\n",
              " 'servic',\n",
              " 'cal',\n",
              " 'l',\n",
              " '09064012103',\n",
              " 'box334sk38ch',\n",
              " 'free',\n",
              " 'entri',\n",
              " 'weekli',\n",
              " 'competit',\n",
              " 'text',\n",
              " 'word',\n",
              " 'win',\n",
              " '80086',\n",
              " '18',\n",
              " 'c',\n",
              " 'send',\n",
              " 'logo',\n",
              " '2',\n",
              " 'ur',\n",
              " 'lover',\n",
              " '2',\n",
              " 'name',\n",
              " 'join',\n",
              " 'heart',\n",
              " 'txt',\n",
              " 'love',\n",
              " 'name1',\n",
              " 'name2',\n",
              " 'mobno',\n",
              " 'eg',\n",
              " 'love',\n",
              " 'adam',\n",
              " 'eve',\n",
              " '07123456789',\n",
              " '87077',\n",
              " 'yahoo',\n",
              " 'pobox36504w45wq',\n",
              " 'txtno',\n",
              " '4',\n",
              " 'ad',\n",
              " '150p',\n",
              " 'someon',\n",
              " 'contact',\n",
              " 'date',\n",
              " 'servic',\n",
              " 'enter',\n",
              " 'phone',\n",
              " 'fanci',\n",
              " 'find',\n",
              " 'call',\n",
              " 'landlin',\n",
              " '09111032124',\n",
              " 'pobox12n146tf150p',\n",
              " 'urgent',\n",
              " 'mobil',\n",
              " 'number',\n",
              " 'award',\n",
              " 'prize',\n",
              " 'guarante',\n",
              " 'call',\n",
              " '09058094455',\n",
              " 'land',\n",
              " 'line',\n",
              " ...]"
            ]
          },
          "metadata": {},
          "execution_count": 23
        }
      ]
    },
    {
      "cell_type": "markdown",
      "source": [
        "Now that we have a list of words, let's get the number of times each word occurs, i.e. their frequency by using `collections.Counter()`"
      ],
      "metadata": {
        "id": "PvRVmU_XfeLN"
      }
    },
    {
      "cell_type": "code",
      "source": [
        "from collections import Counter"
      ],
      "metadata": {
        "id": "XCorMyVLfz7A"
      },
      "execution_count": 24,
      "outputs": []
    },
    {
      "cell_type": "code",
      "source": [
        "counter_ham = Counter(ham).most_common(20)\n",
        "counter_spam = Counter(spam).most_common(20)"
      ],
      "metadata": {
        "id": "REt08Giff2Ys"
      },
      "execution_count": 25,
      "outputs": []
    },
    {
      "cell_type": "markdown",
      "source": [
        "Plotting the most frequent words"
      ],
      "metadata": {
        "id": "RPqvFli4gGwc"
      }
    },
    {
      "cell_type": "code",
      "source": [
        "# load the results as a pandas dataframe in order to plot\n",
        "df_ham = pd.DataFrame(counter_ham)\n",
        "\n",
        "# Renaming the columns in this dataframe\n",
        "df_ham = df_ham.rename(columns={0:\"words in non-spam\", 1:\"count\"})\n",
        "\n",
        "# Plotting the data\n",
        "df_ham.plot.bar(legend = False)\n",
        "y_pos = np.arange(len(df_ham[\"words in non-spam\"]))\n",
        "plt.xticks(y_pos, df_ham[\"words in non-spam\"])\n",
        "plt.title('More frequent words in non-spam messages')\n",
        "plt.xlabel('words')\n",
        "plt.ylabel('number')\n",
        "plt.show()"
      ],
      "metadata": {
        "colab": {
          "base_uri": "https://localhost:8080/",
          "height": 396
        },
        "id": "cqDMuRNhgF4i",
        "outputId": "3a2d3e51-f778-42ca-83fa-4b0df7dcd38d"
      },
      "execution_count": 26,
      "outputs": [
        {
          "output_type": "display_data",
          "data": {
            "text/plain": [
              "<Figure size 750x350 with 1 Axes>"
            ],
            "image/png": "[encoded data removed]"
          },
          "metadata": {}
        }
      ]
    },
    {
      "cell_type": "code",
      "source": [
        "df_spam = pd.DataFrame(counter_spam)\n",
        "\n",
        "# Renaming the columns in this dataframe\n",
        "df_spam = df_spam.rename(columns={0:\"words in spam\", 1:\"count_\"})\n",
        "\n",
        "# Plotting the data\n",
        "df_spam.plot.bar(legend = False, color = 'orange')\n",
        "y_pos = np.arange(len(df_spam[\"words in spam\"]))\n",
        "plt.xticks(y_pos, df_spam[\"words in spam\"])\n",
        "plt.title('More frequent words in spam messages')\n",
        "plt.xlabel('words')\n",
        "plt.ylabel('number')\n",
        "plt.show()"
      ],
      "metadata": {
        "colab": {
          "base_uri": "https://localhost:8080/",
          "height": 403
        },
        "id": "sypqyQFzgYfc",
        "outputId": "c7aa048f-f576-4fb0-a2ee-f1f71580fd7c"
      },
      "execution_count": 27,
      "outputs": [
        {
          "output_type": "display_data",
          "data": {
            "text/plain": [
              "<Figure size 750x350 with 1 Axes>"
            ],
            "image/png": "[encoded data removed]"
          },
          "metadata": {}
        }
      ]
    },
    {
      "cell_type": "markdown",
      "source": [
        "### Train - Test Split"
      ],
      "metadata": {
        "id": "sPNr7Du_cHR9"
      }
    },
    {
      "cell_type": "code",
      "source": [
        "from sklearn.model_selection import train_test_split\n",
        "\n",
        "X_train, X_test, y_train, y_test = train_test_split(df['cleaned_sms'], df['spam'], \n",
        "                                                    test_size=0.25, random_state=42)\n",
        "print([np.shape(X_train), np.shape(X_test)])"
      ],
      "metadata": {
        "colab": {
          "base_uri": "https://localhost:8080/"
        },
        "id": "FfsbPiRIcJkK",
        "outputId": "67685c6a-30b6-4af6-a5ee-588d7f3f0a59"
      },
      "execution_count": 46,
      "outputs": [
        {
          "output_type": "stream",
          "name": "stdout",
          "text": [
            "[(3876,), (1293,)]\n"
          ]
        }
      ]
    },
    {
      "cell_type": "markdown",
      "source": [
        "---\n",
        "\n",
        "### Feature Extraction\n",
        "\n",
        "Though there are multiple ways to transform the given text data into numerical features, let's consider `tf-idf`\n",
        "\n",
        "Naturally, the resultant features will be a sparse matrix.\n"
      ],
      "metadata": {
        "id": "H46lIeVFXFZq"
      }
    },
    {
      "cell_type": "code",
      "source": [
        "from sklearn.feature_extraction.text import TfidfVectorizer"
      ],
      "metadata": {
        "id": "zd90k1KXcc8Z"
      },
      "execution_count": 29,
      "outputs": []
    },
    {
      "cell_type": "code",
      "source": [
        "# Tfidf\n",
        "t = TfidfVectorizer()\n",
        "X_train = t.fit_transform(X_tr)\n",
        "X_test = t.transform(X_test)\n",
        "\n",
        "print(X_train.shape, X_test.shape)\n",
        "y_train.shape, y_test.shape"
      ],
      "metadata": {
        "colab": {
          "base_uri": "https://localhost:8080/"
        },
        "id": "bPSAik51q_bz",
        "outputId": "dd241b90-1e35-48d0-896b-2ce9af3b75df"
      },
      "execution_count": 30,
      "outputs": [
        {
          "output_type": "stream",
          "name": "stdout",
          "text": [
            "(3876, 5764) (1293, 5764)\n"
          ]
        },
        {
          "output_type": "execute_result",
          "data": {
            "text/plain": [
              "((3876,), (1293,))"
            ]
          },
          "metadata": {},
          "execution_count": 30
        }
      ]
    },
    {
      "cell_type": "code",
      "source": [
        "X_train.todense()"
      ],
      "metadata": {
        "colab": {
          "base_uri": "https://localhost:8080/"
        },
        "id": "8iq0iG7rtW8v",
        "outputId": "150cd9ce-5a44-4f9f-f28a-3741f2f82b7a"
      },
      "execution_count": 30,
      "outputs": [
        {
          "output_type": "execute_result",
          "data": {
            "text/plain": [
              "matrix([[0., 0., 0., ..., 0., 0., 0.],\n",
              "        [0., 0., 0., ..., 0., 0., 0.],\n",
              "        [0., 0., 0., ..., 0., 0., 0.],\n",
              "        ...,\n",
              "        [0., 0., 0., ..., 0., 0., 0.],\n",
              "        [0., 0., 0., ..., 0., 0., 0.],\n",
              "        [0., 0., 0., ..., 0., 0., 0.]])"
            ]
          },
          "metadata": {},
          "execution_count": 30
        }
      ]
    },
    {
      "cell_type": "markdown",
      "source": [
        "---\n",
        "\n",
        "### Training and Evaluating models."
      ],
      "metadata": {
        "id": "uxOi3aqhrfyO"
      }
    },
    {
      "cell_type": "markdown",
      "source": [
        "#### 1. Logistic Regression\n",
        "\n",
        "Note: We do not need to scale the values."
      ],
      "metadata": {
        "id": "7W7eFd6WrkN3"
      }
    },
    {
      "cell_type": "code",
      "source": [
        "from sklearn.linear_model import LogisticRegression\n",
        "from imblearn.over_sampling import SMOTE\n",
        "from sklearn.model_selection import GridSearchCV"
      ],
      "metadata": {
        "id": "S0UjFuwWq_Yr"
      },
      "execution_count": 31,
      "outputs": []
    },
    {
      "cell_type": "code",
      "source": [
        "# Tackle imbalance\n",
        "sm = SMOTE(random_state = 2)\n",
        "X_train_bal, y_train_bal = sm.fit_resample(X_train, y_train)\n",
        "X_train_bal.shape, y_train_bal.shape, X_test.shape"
      ],
      "metadata": {
        "colab": {
          "base_uri": "https://localhost:8080/"
        },
        "id": "MV8t77G-FuPT",
        "outputId": "5a55cb7b-2c24-452c-b5ec-761e7715196d"
      },
      "execution_count": 32,
      "outputs": [
        {
          "output_type": "execute_result",
          "data": {
            "text/plain": [
              "((6818, 5764), (6818,), (1293, 5764))"
            ]
          },
          "metadata": {},
          "execution_count": 32
        }
      ]
    },
    {
      "cell_type": "code",
      "source": [
        "lambd = [1, 0.5, 0.1, 0.01, 0.001, 0.0001, 0.00001]\n",
        "\n",
        "params = {\n",
        "    'C': []\n",
        "}\n",
        "\n",
        "for i in lambd:\n",
        "  params['C'].append(1/i)\n",
        "\n",
        "# Setting max_iter = 200, because with default value of 100, it was not able to converge\n",
        "model = LogisticRegression(max_iter=200)\n",
        "\n",
        "# Grid Search\n",
        "clf = GridSearchCV(model, params, scoring = \"f1\", cv=5)\n",
        "clf.fit(X_train_bal, y_train_bal)\n",
        "res = clf.cv_results_"
      ],
      "metadata": {
        "id": "gsp-6m-hq_Wj"
      },
      "execution_count": 33,
      "outputs": []
    },
    {
      "cell_type": "code",
      "source": [
        "res"
      ],
      "metadata": {
        "colab": {
          "base_uri": "https://localhost:8080/"
        },
        "id": "7ZLUgZSDq_T2",
        "outputId": "629c9021-9559-428a-a5bd-d45bbbcc239d"
      },
      "execution_count": 34,
      "outputs": [
        {
          "output_type": "execute_result",
          "data": {
            "text/plain": [
              "{'mean_fit_time': array([0.03405514, 0.04853439, 0.05934958, 0.08669748, 0.10493875,\n",
              "        0.10915203, 0.07679987]),\n",
              " 'std_fit_time': array([0.00699615, 0.01009784, 0.00322878, 0.01149555, 0.01150299,\n",
              "        0.03831611, 0.01062963]),\n",
              " 'mean_score_time': array([0.00184083, 0.00292163, 0.00192122, 0.00195956, 0.00215569,\n",
              "        0.00187964, 0.00186062]),\n",
              " 'std_score_time': array([1.53531199e-04, 1.98504301e-03, 9.14050192e-05, 2.84659643e-04,\n",
              "        3.69114732e-04, 6.86498798e-05, 9.32373341e-05]),\n",
              " 'param_C': masked_array(data=[1.0, 2.0, 10.0, 100.0, 1000.0, 10000.0,\n",
              "                    99999.99999999999],\n",
              "              mask=[False, False, False, False, False, False, False],\n",
              "        fill_value='?',\n",
              "             dtype=object),\n",
              " 'params': [{'C': 1.0},\n",
              "  {'C': 2.0},\n",
              "  {'C': 10.0},\n",
              "  {'C': 100.0},\n",
              "  {'C': 1000.0},\n",
              "  {'C': 10000.0},\n",
              "  {'C': 99999.99999999999}],\n",
              " 'split0_test_score': array([0.97028232, 0.97935103, 0.98973607, 0.99341624, 0.99560761,\n",
              "        0.99560761, 0.99561404]),\n",
              " 'split1_test_score': array([0.98902707, 0.99124088, 0.99489424, 0.9963477 , 0.99707602,\n",
              "        0.99707602, 0.99780541]),\n",
              " 'split2_test_score': array([0.98682284, 0.99342586, 0.9992674 , 1.        , 0.9992674 ,\n",
              "        0.9992674 , 0.9992674 ]),\n",
              " 'split3_test_score': array([0.98248175, 0.98907502, 0.99561404, 0.99707174, 0.99707174,\n",
              "        0.9978022 , 0.9978022 ]),\n",
              " 'split4_test_score': array([0.98754579, 0.99121523, 0.99780541, 0.99780541, 0.99780541,\n",
              "        0.99780541, 0.99780541]),\n",
              " 'mean_test_score': array([0.98323195, 0.9888616 , 0.99546343, 0.99692822, 0.99736564,\n",
              "        0.99751173, 0.99765889]),\n",
              " 'std_test_score': array([0.00683144, 0.00495034, 0.00325897, 0.00213995, 0.0011892 ,\n",
              "        0.00118899, 0.00116895]),\n",
              " 'rank_test_score': array([7, 6, 5, 4, 3, 2, 1], dtype=int32)}"
            ]
          },
          "metadata": {},
          "execution_count": 34
        }
      ]
    },
    {
      "cell_type": "code",
      "source": [
        "clf.best_params_['C'], clf.best_score_"
      ],
      "metadata": {
        "colab": {
          "base_uri": "https://localhost:8080/"
        },
        "id": "wEkIfOdQq_Ri",
        "outputId": "f978d60a-4972-45a2-ad18-06318b4d1603"
      },
      "execution_count": 35,
      "outputs": [
        {
          "output_type": "execute_result",
          "data": {
            "text/plain": [
              "(99999.99999999999, 0.9976588917569936)"
            ]
          },
          "metadata": {},
          "execution_count": 35
        }
      ]
    },
    {
      "cell_type": "markdown",
      "source": [
        "Therefore the best cross validation performance is achieved with `lambda = 0.00001` with `F1 score = 0.9976`"
      ],
      "metadata": {
        "id": "c_9Yn5BJRdE6"
      }
    },
    {
      "cell_type": "code",
      "source": [
        "model = LogisticRegression(C = 1/1e-05, max_iter=200)\n",
        "model.fit(X_train_bal, y_train_bal)\n",
        "y_pred = model.predict(X_test)"
      ],
      "metadata": {
        "id": "tbB2orEPq_M4"
      },
      "execution_count": 36,
      "outputs": []
    },
    {
      "cell_type": "code",
      "source": [
        "from sklearn.metrics import classification_report, f1_score\n",
        "\n",
        "print(classification_report(y_pred, y_test), f1_score(y_pred, y_test))"
      ],
      "metadata": {
        "colab": {
          "base_uri": "https://localhost:8080/"
        },
        "id": "1H9izDQMTtwi",
        "outputId": "1cb3735f-9c65-4000-e077-9f5992bd2fe2"
      },
      "execution_count": 37,
      "outputs": [
        {
          "output_type": "stream",
          "name": "stdout",
          "text": [
            "              precision    recall  f1-score   support\n",
            "\n",
            "           0       0.99      0.98      0.99      1119\n",
            "           1       0.89      0.95      0.92       174\n",
            "\n",
            "    accuracy                           0.98      1293\n",
            "   macro avg       0.94      0.96      0.95      1293\n",
            "weighted avg       0.98      0.98      0.98      1293\n",
            " 0.9166666666666667\n"
          ]
        }
      ]
    },
    {
      "cell_type": "markdown",
      "source": [
        "**Personal Note:**\n",
        "- $F1 \\ score = 0.9167 \\neq 0.9976$\n",
        "\n",
        "- This is because 0.9976 is the score when the model is cross validated on K-folded training set.\n",
        "\n",
        "- But when evaluated against test data, F1 score is 0.9167"
      ],
      "metadata": {
        "id": "OiN2Xurd2TZM"
      }
    },
    {
      "cell_type": "markdown",
      "source": [
        "---\n",
        "\n",
        "#### 2. SVM"
      ],
      "metadata": {
        "id": "8DYp9BQJ3dVa"
      }
    },
    {
      "cell_type": "code",
      "source": [
        "from sklearn.svm import SVC"
      ],
      "metadata": {
        "id": "ir82KDQr7xNW"
      },
      "execution_count": 38,
      "outputs": []
    },
    {
      "cell_type": "code",
      "source": [
        "params = {\n",
        "    'C': [0.1, 1, 10, 100, 1000], \n",
        "    'gamma': [1, 0.1, 0.01, 0.001, 0.0001]\n",
        "    }\n",
        "\n",
        "model = SVC()\n",
        "\n",
        "# Grid Search\n",
        "clf = GridSearchCV(model, params, scoring = \"f1\", cv=5)\n",
        "clf.fit(X_train_bal, y_train_bal)\n",
        "res = clf.cv_results_"
      ],
      "metadata": {
        "id": "54MOqeLsq_Ki"
      },
      "execution_count": 39,
      "outputs": []
    },
    {
      "cell_type": "code",
      "source": [
        "clf.best_params_, clf.best_score_"
      ],
      "metadata": {
        "colab": {
          "base_uri": "https://localhost:8080/"
        },
        "id": "K5t93rEQ89SU",
        "outputId": "7accccc7-4609-4d14-f15b-2fdca408580f"
      },
      "execution_count": 42,
      "outputs": [
        {
          "output_type": "execute_result",
          "data": {
            "text/plain": [
              "({'C': 10, 'gamma': 1}, 0.9994130589541722)"
            ]
          },
          "metadata": {},
          "execution_count": 42
        }
      ]
    },
    {
      "cell_type": "code",
      "source": [
        "model = SVC(C = 10, gamma = 1)\n",
        "model.fit(X_train_bal, y_train_bal)\n",
        "y_pred = model.predict(X_test)"
      ],
      "metadata": {
        "id": "qE68ENyz9R8o"
      },
      "execution_count": 43,
      "outputs": []
    },
    {
      "cell_type": "code",
      "source": [
        "print(classification_report(y_pred, y_test), f1_score(y_pred, y_test))"
      ],
      "metadata": {
        "colab": {
          "base_uri": "https://localhost:8080/"
        },
        "id": "PFjmsfpz9dPl",
        "outputId": "0d94c313-76dc-4377-e405-81e6508bbbc8"
      },
      "execution_count": 44,
      "outputs": [
        {
          "output_type": "stream",
          "name": "stdout",
          "text": [
            "              precision    recall  f1-score   support\n",
            "\n",
            "           0       1.00      0.98      0.99      1132\n",
            "           1       0.85      0.99      0.92       161\n",
            "\n",
            "    accuracy                           0.98      1293\n",
            "   macro avg       0.93      0.98      0.95      1293\n",
            "weighted avg       0.98      0.98      0.98      1293\n",
            " 0.9164265129682998\n"
          ]
        }
      ]
    },
    {
      "cell_type": "markdown",
      "source": [
        "---\n",
        "#### 3. Random Forest"
      ],
      "metadata": {
        "id": "lBTJagChAB-J"
      }
    },
    {
      "cell_type": "code",
      "source": [
        "from sklearn.ensemble import RandomForestClassifier"
      ],
      "metadata": {
        "id": "juDSMX9lhS60"
      },
      "execution_count": 1,
      "outputs": []
    },
    {
      "cell_type": "code",
      "source": [
        "params = { \n",
        "    'n_estimators': [200, 500],\n",
        "    'max_features': ['sqrt', 'log2'],\n",
        "    'max_depth' : [4,5,6,7,8],\n",
        "    'criterion' : ['gini', 'entropy']\n",
        "}\n",
        "\n",
        "model = RandomForestClassifier(random_state=42)\n",
        "\n",
        "# Grid Search\n",
        "clf = GridSearchCV(model, params, scoring = \"f1\", cv=5)\n",
        "clf.fit(X_train_bal, y_train_bal)\n",
        "res = clf.cv_results_"
      ],
      "metadata": {
        "id": "ZrbDBEOehkFJ"
      },
      "execution_count": 35,
      "outputs": []
    },
    {
      "cell_type": "code",
      "source": [
        "clf.best_params_, clf.best_score_"
      ],
      "metadata": {
        "colab": {
          "base_uri": "https://localhost:8080/"
        },
        "id": "BWKi-SUmjuH6",
        "outputId": "e09f52cd-181a-4041-adab-ba8f07516d09"
      },
      "execution_count": 36,
      "outputs": [
        {
          "output_type": "execute_result",
          "data": {
            "text/plain": [
              "({'criterion': 'entropy',\n",
              "  'max_depth': 8,\n",
              "  'max_features': 'log2',\n",
              "  'n_estimators': 500},\n",
              " 0.9520306249767632)"
            ]
          },
          "metadata": {},
          "execution_count": 36
        }
      ]
    },
    {
      "cell_type": "code",
      "source": [
        "model = RandomForestClassifier(max_depth=8, criterion='entropy', random_state=42, \n",
        "                               max_features='log2', n_estimators=500)\n",
        "model.fit(X_train_bal, y_train_bal)\n",
        "y_pred = model.predict(X_test)"
      ],
      "metadata": {
        "id": "B54LGiQQlOPY"
      },
      "execution_count": 42,
      "outputs": []
    },
    {
      "cell_type": "code",
      "source": [
        "from sklearn.metrics import classification_report, f1_score\n",
        "\n",
        "print(classification_report(y_pred, y_test), f1_score(y_pred, y_test))"
      ],
      "metadata": {
        "colab": {
          "base_uri": "https://localhost:8080/"
        },
        "id": "XuPTdWL9lxAE",
        "outputId": "c3103810-2de8-4176-85cf-58aa800bf1bc"
      },
      "execution_count": 43,
      "outputs": [
        {
          "output_type": "stream",
          "name": "stdout",
          "text": [
            "              precision    recall  f1-score   support\n",
            "\n",
            "           0       1.00      0.95      0.97      1167\n",
            "           1       0.68      1.00      0.81       126\n",
            "\n",
            "    accuracy                           0.95      1293\n",
            "   macro avg       0.84      0.97      0.89      1293\n",
            "weighted avg       0.97      0.95      0.96      1293\n",
            " 0.8076923076923077\n"
          ]
        }
      ]
    },
    {
      "cell_type": "markdown",
      "source": [
        "---\n",
        "#### 4. Multinomial Naive Bayes\n",
        "\n",
        "For this, the features need to be extracted in a different way than tfidf.\n",
        "\n",
        "The features need to just signify the term frequency. This can be done using `CountVectorizer`"
      ],
      "metadata": {
        "id": "LGgO8LpemDU8"
      }
    },
    {
      "cell_type": "code",
      "source": [
        "from sklearn.feature_extraction.text import CountVectorizer"
      ],
      "metadata": {
        "id": "t2pnUgJ6oCu6"
      },
      "execution_count": 45,
      "outputs": []
    },
    {
      "cell_type": "code",
      "source": [
        "# Need to derive train and test sets again from df\n",
        "X_train, X_test, y_train, y_test = train_test_split(df['cleaned_sms'], df['spam'], \n",
        "                                                    test_size=0.25, random_state=42)\n",
        "# CountVectorizer\n",
        "c = CountVectorizer()\n",
        "X_train = c.fit_transform(X_train)\n",
        "X_test = c.transform(X_test)\n",
        "\n",
        "print(X_train.shape, X_test.shape)\n",
        "y_train.shape, y_test.shape"
      ],
      "metadata": {
        "colab": {
          "base_uri": "https://localhost:8080/"
        },
        "id": "iJWhdl0VoIBc",
        "outputId": "29d11be9-dfb9-495f-f041-5785addeb1c6"
      },
      "execution_count": 58,
      "outputs": [
        {
          "output_type": "stream",
          "name": "stdout",
          "text": [
            "(3876, 5764) (1293, 5764)\n"
          ]
        },
        {
          "output_type": "execute_result",
          "data": {
            "text/plain": [
              "((3876,), (1293,))"
            ]
          },
          "metadata": {},
          "execution_count": 58
        }
      ]
    },
    {
      "cell_type": "code",
      "source": [
        "# Tackle imbalance\n",
        "sm = SMOTE(random_state = 2)\n",
        "X_train_bal, y_train_bal = sm.fit_resample(X_train, y_train)\n",
        "X_train_bal.shape, y_train_bal.shape, X_test.shape"
      ],
      "metadata": {
        "colab": {
          "base_uri": "https://localhost:8080/"
        },
        "id": "In-Xj3Ptp5Rk",
        "outputId": "e7f665a4-7191-400b-a677-b63a2e359498"
      },
      "execution_count": 59,
      "outputs": [
        {
          "output_type": "execute_result",
          "data": {
            "text/plain": [
              "((6818, 5764), (6818,), (1293, 5764))"
            ]
          },
          "metadata": {},
          "execution_count": 59
        }
      ]
    },
    {
      "cell_type": "markdown",
      "source": [
        "Taking different values of Laplace Smoothing constant"
      ],
      "metadata": {
        "id": "Hr3ghdiBHsl3"
      }
    },
    {
      "cell_type": "code",
      "source": [
        "params = {\n",
        "        'alpha':[0.01, 0.1, 1, 10]\n",
        "        }"
      ],
      "metadata": {
        "id": "xJy1vyHMHxIH"
      },
      "execution_count": 51,
      "outputs": []
    },
    {
      "cell_type": "code",
      "source": [
        "from sklearn.naive_bayes import MultinomialNB"
      ],
      "metadata": {
        "id": "xxHvQyZAqPAK"
      },
      "execution_count": 49,
      "outputs": []
    },
    {
      "cell_type": "code",
      "source": [
        "model = MultinomialNB()\n",
        "\n",
        "clf = GridSearchCV(model, params, scoring = \"f1\", cv=5)\n",
        "\n",
        "clf.fit(X_train_bal, y_train_bal)\n",
        "\n",
        "res = clf.cv_results_"
      ],
      "metadata": {
        "id": "-6cdNMYSkOGf"
      },
      "execution_count": 52,
      "outputs": []
    },
    {
      "cell_type": "code",
      "source": [
        "clf.best_params_, clf.best_score_"
      ],
      "metadata": {
        "colab": {
          "base_uri": "https://localhost:8080/"
        },
        "outputId": "ae9457af-9ad5-4403-b462-94b1c5d982fe",
        "id": "EeBFaFiAq3yb"
      },
      "execution_count": 53,
      "outputs": [
        {
          "output_type": "execute_result",
          "data": {
            "text/plain": [
              "({'alpha': 0.1}, 0.8341029812797741)"
            ]
          },
          "metadata": {},
          "execution_count": 53
        }
      ]
    },
    {
      "cell_type": "code",
      "source": [
        "model = MultinomialNB(alpha=0.1)\n",
        "model.fit(X_train_bal, y_train_bal)\n",
        "y_pred = model.predict(X_test)"
      ],
      "metadata": {
        "id": "v_uVfJzAq3yh"
      },
      "execution_count": 54,
      "outputs": []
    },
    {
      "cell_type": "code",
      "source": [
        "print(classification_report(y_pred, y_test), f1_score(y_pred, y_test))"
      ],
      "metadata": {
        "colab": {
          "base_uri": "https://localhost:8080/"
        },
        "outputId": "e756be8f-901b-4a9b-ea86-03e331bba10f",
        "id": "zuoT0Pbyq3yi"
      },
      "execution_count": 55,
      "outputs": [
        {
          "output_type": "stream",
          "name": "stdout",
          "text": [
            "              precision    recall  f1-score   support\n",
            "\n",
            "           0       0.97      0.98      0.98      1099\n",
            "           1       0.89      0.86      0.87       194\n",
            "\n",
            "    accuracy                           0.96      1293\n",
            "   macro avg       0.93      0.92      0.93      1293\n",
            "weighted avg       0.96      0.96      0.96      1293\n",
            " 0.8736842105263158\n"
          ]
        }
      ]
    },
    {
      "cell_type": "markdown",
      "source": [
        "---\n",
        "#### 5. Gaussian Naive Bayes"
      ],
      "metadata": {
        "id": "uBoOYWocrng-"
      }
    },
    {
      "cell_type": "code",
      "source": [
        "from sklearn.naive_bayes import GaussianNB"
      ],
      "metadata": {
        "id": "acuV2gFzrqgQ"
      },
      "execution_count": 56,
      "outputs": []
    },
    {
      "cell_type": "code",
      "source": [
        "model = GaussianNB()\n",
        "\n",
        "# need to apply .toarray() because input must be a dense array\n",
        "model.fit(X_train_bal.toarray(), y_train_bal)\n",
        "y_pred = model.predict(X_test.toarray())"
      ],
      "metadata": {
        "id": "pbMnzWaYryaA"
      },
      "execution_count": 64,
      "outputs": []
    },
    {
      "cell_type": "code",
      "source": [
        "print(classification_report(y_pred, y_test), f1_score(y_pred, y_test))"
      ],
      "metadata": {
        "colab": {
          "base_uri": "https://localhost:8080/"
        },
        "id": "nZEmkAEEsPx8",
        "outputId": "201dbf2c-afcd-4032-ea43-bc3baffb7774"
      },
      "execution_count": 65,
      "outputs": [
        {
          "output_type": "stream",
          "name": "stdout",
          "text": [
            "              precision    recall  f1-score   support\n",
            "\n",
            "           0       0.87      0.97      0.92       993\n",
            "           1       0.87      0.54      0.66       300\n",
            "\n",
            "    accuracy                           0.87      1293\n",
            "   macro avg       0.87      0.76      0.79      1293\n",
            "weighted avg       0.87      0.87      0.86      1293\n",
            " 0.6625514403292181\n"
          ]
        }
      ]
    },
    {
      "cell_type": "markdown",
      "source": [
        "Summarizing our findings:-\n",
        "\n",
        "Model | Accuracy | F1 score\n",
        "--- | --- | ---\n",
        "LogReg | 0.98 | 0.9167\n",
        "SVM | 0.98 |  0.9164\n",
        "Random Forest | 0.95 | 0.8076\n",
        "Multinomial NB | 0.96 | 0.8737\n",
        "Gaussian NB | 0.87 | 0.6625\n"
      ],
      "metadata": {
        "id": "ulFcB7Z6s4C6"
      }
    },
    {
      "cell_type": "markdown",
      "source": [
        "Therefore, we can say that **Logistic Regression works best on this data**."
      ],
      "metadata": {
        "id": "-c-J97g7uadX"
      }
    },
    {
      "cell_type": "markdown",
      "source": [
        "### TODO"
      ],
      "metadata": {
        "id": "r7pnZ4csuwG1"
      }
    },
    {
      "cell_type": "code",
      "source": [
        "text = \"Nigeran price needs your help. Send money\""
      ],
      "metadata": {
        "id": "G-SZX5bXNgrh"
      },
      "execution_count": null,
      "outputs": []
    }
  ]
}